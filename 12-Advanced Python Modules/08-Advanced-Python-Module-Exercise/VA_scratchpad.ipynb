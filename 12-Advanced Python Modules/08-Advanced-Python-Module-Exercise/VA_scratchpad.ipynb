{
 "cells": [
  {
   "cell_type": "code",
   "execution_count": 88,
   "metadata": {},
   "outputs": [],
   "source": [
    "from random import shuffle\n",
    "\n",
    "suits = ('Hearts', 'Diamonds', 'Spades', 'Clubs')\n",
    "ranks = ('Two', 'Three', 'Four', 'Five', 'Six', 'Seven', 'Eight', 'Nine', 'Ten', 'Jack', 'Queen', 'King', 'Ace')\n",
    "values = {'Two':2, 'Three':3, 'Four':4, 'Five':5, 'Six':6, 'Seven':7, 'Eight':8, \n",
    "            'Nine':9, 'Ten':10, 'Jack':11, 'Queen':12, 'King':13, 'Ace':14}"
   ]
  },
  {
   "cell_type": "code",
   "execution_count": 89,
   "metadata": {},
   "outputs": [],
   "source": [
    "class Card:\n",
    "    def __init__(self,suit,rank):\n",
    "\n",
    "        self.suit = suit\n",
    "        self.rank = rank\n",
    "        self.value = values[rank]\n",
    "\n",
    "    def __str__(self):\n",
    "\n",
    "        return self.rank+' of '+self.suit\n",
    "\n"
   ]
  },
  {
   "cell_type": "code",
   "execution_count": 3,
   "metadata": {},
   "outputs": [],
   "source": [
    "TwoOfHearts = Card(suits[0],ranks[0])"
   ]
  },
  {
   "cell_type": "code",
   "execution_count": 4,
   "metadata": {},
   "outputs": [
    {
     "name": "stdout",
     "output_type": "stream",
     "text": [
      "Two of Hearts\n"
     ]
    }
   ],
   "source": [
    "print(TwoOfHearts)"
   ]
  },
  {
   "cell_type": "code",
   "execution_count": 5,
   "metadata": {},
   "outputs": [
    {
     "name": "stdout",
     "output_type": "stream",
     "text": [
      "2\n"
     ]
    }
   ],
   "source": [
    "print(TwoOfHearts.value)"
   ]
  },
  {
   "cell_type": "code",
   "execution_count": 6,
   "metadata": {},
   "outputs": [
    {
     "data": {
      "text/plain": [
       "2"
      ]
     },
     "execution_count": 6,
     "metadata": {},
     "output_type": "execute_result"
    }
   ],
   "source": [
    "TwoOfHearts.value"
   ]
  },
  {
   "cell_type": "code",
   "execution_count": 7,
   "metadata": {},
   "outputs": [
    {
     "data": {
      "text/plain": [
       "'Two'"
      ]
     },
     "execution_count": 7,
     "metadata": {},
     "output_type": "execute_result"
    }
   ],
   "source": [
    "TwoOfHearts.rank"
   ]
  },
  {
   "cell_type": "code",
   "execution_count": 8,
   "metadata": {},
   "outputs": [
    {
     "data": {
      "text/plain": [
       "'Hearts'"
      ]
     },
     "execution_count": 8,
     "metadata": {},
     "output_type": "execute_result"
    }
   ],
   "source": [
    "TwoOfHearts.suit"
   ]
  },
  {
   "cell_type": "code",
   "execution_count": 90,
   "metadata": {},
   "outputs": [],
   "source": [
    "class Deck:\n",
    "    def __init__(self):\n",
    "        \n",
    "        self.all_cards = []\n",
    "\n",
    "        for suit in suits:\n",
    "            for rank in ranks:\n",
    "\n",
    "                created_card = Card(suit,rank)\n",
    "\n",
    "                self.all_cards.append(created_card)\n",
    "\n",
    "    def shuffle(self):\n",
    "\n",
    "        shuffle(self.all_cards)\n",
    "\n",
    "    def deal_one(self):\n",
    "\n",
    "        return self.all_cards.pop()"
   ]
  },
  {
   "cell_type": "code",
   "execution_count": 91,
   "metadata": {},
   "outputs": [],
   "source": [
    "new_deck = Deck()"
   ]
  },
  {
   "cell_type": "code",
   "execution_count": 94,
   "metadata": {},
   "outputs": [],
   "source": [
    "new_deck.shuffle()"
   ]
  },
  {
   "cell_type": "code",
   "execution_count": 97,
   "metadata": {},
   "outputs": [
    {
     "name": "stdout",
     "output_type": "stream",
     "text": [
      "[<__main__.Card object at 0x7fcef8897820>, <__main__.Card object at 0x7fcef8897bb0>, <__main__.Card object at 0x7fcef8897730>, <__main__.Card object at 0x7fcef8897310>, <__main__.Card object at 0x7fcef88977f0>, <__main__.Card object at 0x7fceb82a2b80>, <__main__.Card object at 0x7fcef8897070>, <__main__.Card object at 0x7fcef88978e0>, <__main__.Card object at 0x7fcef8897be0>, <__main__.Card object at 0x7fcef8897760>, <__main__.Card object at 0x7fcef8897670>, <__main__.Card object at 0x7fcef88978b0>, <__main__.Card object at 0x7fcef8897d00>, <__main__.Card object at 0x7fcef88973a0>, <__main__.Card object at 0x7fcef88977c0>, <__main__.Card object at 0x7fcef88970a0>, <__main__.Card object at 0x7fceb82a24f0>, <__main__.Card object at 0x7fcef88974c0>, <__main__.Card object at 0x7fcef88971f0>, <__main__.Card object at 0x7fceb82fceb0>, <__main__.Card object at 0x7fceb82a2730>, <__main__.Card object at 0x7fcef8897580>, <__main__.Card object at 0x7fcef8897f40>, <__main__.Card object at 0x7fcef8897e80>, <__main__.Card object at 0x7fcef8897700>, <__main__.Card object at 0x7fceb82fc910>, <__main__.Card object at 0x7fcef8897cd0>, <__main__.Card object at 0x7fceb82a2790>, <__main__.Card object at 0x7fcef8897d90>, <__main__.Card object at 0x7fcef8897d60>, <__main__.Card object at 0x7fceb82fca60>, <__main__.Card object at 0x7fcef8897550>, <__main__.Card object at 0x7fcef8897940>, <__main__.Card object at 0x7fceb82a21f0>, <__main__.Card object at 0x7fcef8897e20>, <__main__.Card object at 0x7fcef88979a0>, <__main__.Card object at 0x7fceb82a22b0>, <__main__.Card object at 0x7fcef8897c70>, <__main__.Card object at 0x7fcef8897340>, <__main__.Card object at 0x7fcef88970d0>, <__main__.Card object at 0x7fcef8897430>, <__main__.Card object at 0x7fceb82a2dc0>, <__main__.Card object at 0x7fcef8897970>, <__main__.Card object at 0x7fcef8897df0>, <__main__.Card object at 0x7fcef8897ee0>, <__main__.Card object at 0x7fcef88976d0>, <__main__.Card object at 0x7fcef88972b0>, <__main__.Card object at 0x7fceb82a2820>, <__main__.Card object at 0x7fcef8897400>, <__main__.Card object at 0x7fceb82a2550>, <__main__.Card object at 0x7fcef8897610>, <__main__.Card object at 0x7fceb82a2430>]\n",
      "King of Spades\n",
      "Four of Spades\n",
      "Jack of Spades\n",
      "Eight of Hearts\n",
      "Two of Clubs\n",
      "Eight of Clubs\n",
      "Ten of Diamonds\n",
      "Two of Spades\n",
      "Five of Diamonds\n",
      "Queen of Hearts\n",
      "Six of Hearts\n",
      "Three of Clubs\n",
      "Six of Diamonds\n",
      "Nine of Diamonds\n",
      "Four of Clubs\n",
      "Six of Spades\n",
      "Jack of Clubs\n",
      "Five of Spades\n",
      "Ace of Diamonds\n",
      "Two of Hearts\n",
      "Queen of Clubs\n",
      "Jack of Diamonds\n",
      "Eight of Diamonds\n",
      "Queen of Spades\n",
      "Ace of Spades\n",
      "Three of Hearts\n",
      "Queen of Diamonds\n",
      "Ten of Clubs\n",
      "Three of Spades\n",
      "Seven of Diamonds\n",
      "Four of Hearts\n",
      "King of Diamonds\n",
      "Eight of Spades\n",
      "Ace of Clubs\n",
      "Nine of Hearts\n",
      "Three of Diamonds\n",
      "Seven of Clubs\n",
      "Ten of Spades\n",
      "Nine of Spades\n",
      "Ace of Hearts\n",
      "Seven of Hearts\n",
      "Nine of Clubs\n",
      "Two of Diamonds\n",
      "Four of Diamonds\n",
      "Ten of Hearts\n",
      "Five of Hearts\n",
      "Jack of Hearts\n",
      "Five of Clubs\n",
      "Seven of Spades\n",
      "Six of Clubs\n",
      "King of Hearts\n",
      "King of Clubs\n"
     ]
    }
   ],
   "source": [
    "print(new_deck.all_cards)\n",
    "\n",
    "for card_object in new_deck.all_cards:\n",
    "    print(card_object)"
   ]
  },
  {
   "cell_type": "code",
   "execution_count": 44,
   "metadata": {},
   "outputs": [],
   "source": [
    "shuffle(new_deck.all_cards)"
   ]
  },
  {
   "cell_type": "code",
   "execution_count": 46,
   "metadata": {},
   "outputs": [],
   "source": [
    "mycard = new_deck.deal_one()"
   ]
  },
  {
   "cell_type": "code",
   "execution_count": 47,
   "metadata": {},
   "outputs": [
    {
     "name": "stdout",
     "output_type": "stream",
     "text": [
      "Three of Hearts\n"
     ]
    }
   ],
   "source": [
    "print(mycard)"
   ]
  },
  {
   "cell_type": "code",
   "execution_count": 50,
   "metadata": {},
   "outputs": [
    {
     "data": {
      "text/plain": [
       "51"
      ]
     },
     "execution_count": 50,
     "metadata": {},
     "output_type": "execute_result"
    }
   ],
   "source": [
    "len(new_deck.all_cards)"
   ]
  },
  {
   "cell_type": "code",
   "execution_count": 62,
   "metadata": {},
   "outputs": [],
   "source": [
    "class Player:\n",
    "    def __init__(self,name):\n",
    "\n",
    "        self.name = name\n",
    "        self.all_cards = []\n",
    "\n",
    "    def remove_one(self):\n",
    "        return self.all_cards.pop(0)\n",
    "\n",
    "    def add_cards(self,new_cards):\n",
    "        if type(new_cards) == type([]):\n",
    "            self.all_cards.extend(new_cards)\n",
    "        else:\n",
    "            self.all_cards.append(new_cards)\n",
    "    \n",
    "    def __str__(self):\n",
    "        return f'Player {self.name} has {len(self.all_cards)} cards'"
   ]
  },
  {
   "cell_type": "code",
   "execution_count": 105,
   "metadata": {},
   "outputs": [],
   "source": [
    "new_player = Player('Vlad')"
   ]
  },
  {
   "cell_type": "code",
   "execution_count": 106,
   "metadata": {},
   "outputs": [
    {
     "name": "stdout",
     "output_type": "stream",
     "text": [
      "Player Vlad has 0 cards\n"
     ]
    }
   ],
   "source": [
    "print(new_player)"
   ]
  },
  {
   "cell_type": "code",
   "execution_count": 109,
   "metadata": {},
   "outputs": [
    {
     "name": "stdout",
     "output_type": "stream",
     "text": [
      "Three of Hearts\n"
     ]
    }
   ],
   "source": [
    "\n",
    "print(new_player.all_cards[0])"
   ]
  },
  {
   "cell_type": "code",
   "execution_count": 108,
   "metadata": {},
   "outputs": [],
   "source": [
    "new_player.add_cards([mycard,mycard,mycard])"
   ]
  },
  {
   "cell_type": "code",
   "execution_count": 79,
   "metadata": {},
   "outputs": [
    {
     "data": {
      "text/plain": [
       "<__main__.Card at 0x7fda606e5c40>"
      ]
     },
     "execution_count": 79,
     "metadata": {},
     "output_type": "execute_result"
    }
   ],
   "source": [
    "new_player.remove_one()"
   ]
  },
  {
   "cell_type": "code",
   "execution_count": 85,
   "metadata": {},
   "outputs": [],
   "source": [
    "#Game setup\n",
    "\n",
    "player_1 = Player('Vlad')\n",
    "player_2 = Player('Nick')\n",
    "\n",
    "new_deck = Deck()\n",
    "new_deck.shuffle()\n",
    "\n",
    "for i in range(26):\n",
    "    player_1.add_cards(new_deck.deal_one())\n",
    "    player_2.add_cards(new_deck.deal_one())\n",
    "\n",
    "    "
   ]
  },
  {
   "cell_type": "code",
   "execution_count": 86,
   "metadata": {},
   "outputs": [],
   "source": [
    "game_on = True"
   ]
  },
  {
   "cell_type": "code",
   "execution_count": 87,
   "metadata": {},
   "outputs": [
    {
     "name": "stdout",
     "output_type": "stream",
     "text": [
      "Round 1\n",
      "Round 2\n",
      "Round 3\n",
      "Round 4\n",
      "Round 5\n",
      "Round 6\n",
      "Round 7\n",
      "Round 8\n",
      "Round 9\n",
      "Round 10\n",
      "Round 11\n",
      "Round 12\n",
      "Round 13\n",
      "Round 14\n",
      "Round 15\n",
      "Round 16\n",
      "Round 17\n",
      "Round 18\n",
      "Round 19\n",
      "Round 20\n",
      "Round 21\n",
      "Round 22\n",
      "Round 23\n",
      "Round 24\n",
      "Round 25\n",
      "Round 26\n",
      "Round 27\n",
      "Round 28\n",
      "Round 29\n",
      "WAR\n",
      "Round 30\n",
      "Round 31\n",
      "Round 32\n",
      "Round 33\n",
      "Round 34\n",
      "Round 35\n",
      "Round 36\n",
      "Round 37\n",
      "Round 38\n",
      "Round 39\n",
      "Round 40\n",
      "Round 41\n",
      "Round 42\n",
      "Round 43\n",
      "Round 44\n",
      "Round 45\n",
      "Round 46\n",
      "Round 47\n",
      "Round 48\n",
      "Round 49\n",
      "Round 50\n",
      "Round 51\n",
      "Round 52\n",
      "Round 53\n",
      "Round 54\n",
      "Round 55\n",
      "Round 56\n",
      "Round 57\n",
      "Round 58\n",
      "Round 59\n",
      "Round 60\n",
      "Round 61\n",
      "Round 62\n",
      "Round 63\n",
      "Round 64\n",
      "Round 65\n",
      "Round 66\n",
      "Round 67\n",
      "Round 68\n",
      "Round 69\n",
      "Round 70\n",
      "Round 71\n",
      "Round 72\n",
      "Round 73\n",
      "Round 74\n",
      "Round 75\n",
      "Round 76\n",
      "Round 77\n",
      "Round 78\n",
      "Round 79\n",
      "Round 80\n",
      "Round 81\n",
      "Round 82\n",
      "Round 83\n",
      "WAR\n",
      "Round 84\n",
      "Round 85\n",
      "Round 86\n",
      "WAR\n",
      "Round 87\n",
      "Round 88\n",
      "Round 89\n",
      "Round 90\n",
      "Round 91\n",
      "Round 92\n",
      "Round 93\n",
      "Round 94\n",
      "Round 95\n",
      "Round 96\n",
      "Round 97\n",
      "Round 98\n",
      "Round 99\n",
      "Round 100\n",
      "Round 101\n",
      "Round 102\n",
      "Round 103\n",
      "Round 104\n",
      "Round 105\n",
      "Round 106\n",
      "Round 107\n",
      "Round 108\n",
      "Round 109\n",
      "Round 110\n",
      "Round 111\n",
      "Round 112\n",
      "Round 113\n",
      "Round 114\n",
      "Round 115\n",
      "Round 116\n",
      "Round 117\n",
      "WAR\n",
      "Player 2 not able to delare war. Player 1 wins!\n"
     ]
    }
   ],
   "source": [
    "round_num = 0\n",
    "\n",
    "while game_on:\n",
    "    round_num += 1\n",
    "    print(f'Round {round_num}')\n",
    "\n",
    "    if len(player_1.all_cards) == 0:\n",
    "        print('Player 1 is out of cards. Player 2 won!')\n",
    "        game_on = False\n",
    "        break\n",
    "\n",
    "    \n",
    "    if len(player_2.all_cards) == 0:\n",
    "        print('Player 2 is out of cards. Player 1 won!')\n",
    "        game_on = False\n",
    "        break\n",
    "\n",
    "#Start a new round\n",
    "\n",
    "    player_1_cards = []\n",
    "    player_1_cards.append(player_1.remove_one())\n",
    "\n",
    "    player_2_cards = []\n",
    "    player_2_cards.append(player_2.remove_one())\n",
    "\n",
    "    at_war = True\n",
    "\n",
    "    while at_war:\n",
    "\n",
    "        if player_1_cards[-1].value > player_2_cards[-1].value:\n",
    "            player_1.add_cards(player_1_cards)\n",
    "            player_1.add_cards(player_2_cards)\n",
    "\n",
    "            at_war = False\n",
    "\n",
    "        elif player_1_cards[-1].value < player_2_cards[-1].value:\n",
    "            player_2.add_cards(player_1_cards)\n",
    "            player_2.add_cards(player_2_cards)  \n",
    "\n",
    "            at_war = False\n",
    "\n",
    "        else:\n",
    "            print('WAR')\n",
    "\n",
    "            if len(player_1.all_cards) < 5:\n",
    "                print('Player 1 not able to delare war. Player 2 wins!')\n",
    "                game_on = False\n",
    "                break\n",
    "\n",
    "            elif len(player_2.all_cards) < 5:\n",
    "                print('Player 2 not able to delare war. Player 1 wins!')\n",
    "                game_on = False\n",
    "                break\n",
    "\n",
    "            else:\n",
    "                for i in range(5):\n",
    "                    player_1_cards.append(player_1.remove_one())\n",
    "                    player_2_cards.append(player_2.remove_one())\n",
    "\n",
    "\n",
    "\n"
   ]
  },
  {
   "cell_type": "code",
   "execution_count": 1,
   "metadata": {},
   "outputs": [],
   "source": [
    "x=lambda a:a+10"
   ]
  },
  {
   "cell_type": "code",
   "execution_count": 3,
   "metadata": {},
   "outputs": [
    {
     "data": {
      "text/plain": [
       "15"
      ]
     },
     "execution_count": 3,
     "metadata": {},
     "output_type": "execute_result"
    }
   ],
   "source": [
    "x(5)"
   ]
  },
  {
   "cell_type": "code",
   "execution_count": 4,
   "metadata": {},
   "outputs": [],
   "source": [
    "xy=(2,3,4,5)"
   ]
  },
  {
   "cell_type": "code",
   "execution_count": 5,
   "metadata": {},
   "outputs": [
    {
     "data": {
      "text/plain": [
       "tuple"
      ]
     },
     "execution_count": 5,
     "metadata": {},
     "output_type": "execute_result"
    }
   ],
   "source": [
    "type(xy)"
   ]
  },
  {
   "cell_type": "code",
   "execution_count": 9,
   "metadata": {},
   "outputs": [],
   "source": [
    "xz=(2,6,6,8,4)"
   ]
  },
  {
   "cell_type": "code",
   "execution_count": 10,
   "metadata": {},
   "outputs": [
    {
     "data": {
      "text/plain": [
       "tuple"
      ]
     },
     "execution_count": 10,
     "metadata": {},
     "output_type": "execute_result"
    }
   ],
   "source": [
    "type(xz)"
   ]
  },
  {
   "cell_type": "code",
   "execution_count": 1,
   "metadata": {},
   "outputs": [
    {
     "data": {
      "text/plain": [
       "'/Users/vladavramenko/Documents/Python/Complete-Python-3-Bootcamp'"
      ]
     },
     "execution_count": 1,
     "metadata": {},
     "output_type": "execute_result"
    }
   ],
   "source": [
    "pwd"
   ]
  },
  {
   "cell_type": "code",
   "execution_count": 3,
   "metadata": {},
   "outputs": [],
   "source": [
    "f=open('practice.txt','w+')\n",
    "f.write('this is a test string')\n",
    "f.close()"
   ]
  },
  {
   "cell_type": "code",
   "execution_count": 4,
   "metadata": {},
   "outputs": [
    {
     "data": {
      "text/plain": [
       "<_io.TextIOWrapper name='practice.txt' mode='w+' encoding='UTF-8'>"
      ]
     },
     "execution_count": 4,
     "metadata": {},
     "output_type": "execute_result"
    }
   ],
   "source": [
    "f"
   ]
  },
  {
   "cell_type": "code",
   "execution_count": 5,
   "metadata": {},
   "outputs": [
    {
     "data": {
      "text/plain": [
       "_io.TextIOWrapper"
      ]
     },
     "execution_count": 5,
     "metadata": {},
     "output_type": "execute_result"
    }
   ],
   "source": [
    "type(f)"
   ]
  },
  {
   "cell_type": "code",
   "execution_count": 6,
   "metadata": {},
   "outputs": [],
   "source": [
    "import os"
   ]
  },
  {
   "cell_type": "code",
   "execution_count": 7,
   "metadata": {},
   "outputs": [
    {
     "data": {
      "text/plain": [
       "'/Users/vladavramenko/Documents/Python/Complete-Python-3-Bootcamp'"
      ]
     },
     "execution_count": 7,
     "metadata": {},
     "output_type": "execute_result"
    }
   ],
   "source": [
    "os.getcwd()"
   ]
  },
  {
   "cell_type": "code",
   "execution_count": 8,
   "metadata": {},
   "outputs": [
    {
     "data": {
      "text/plain": [
       "['Pierian_Data_Logo.png',\n",
       " '18-Milestone Project - 3',\n",
       " '19-Bonus Material - Introduction to GUIs',\n",
       " '12-Advanced Python Modules',\n",
       " '03-Methods and Functions',\n",
       " '07-Errors and Exception Handling',\n",
       " '.DS_Store',\n",
       " '11-Python Generators',\n",
       " '06-Modules and Packages',\n",
       " '16-Emailing-with-Python',\n",
       " '01-Python Comparison Operators',\n",
       " 'practice.txt',\n",
       " 'Jupyter (iPython) Notebooks Guide.ipynb',\n",
       " '09-Empty-Section-Skip',\n",
       " '17-Advanced Python Objects and Data Structures',\n",
       " '08-Milestone Project - 2',\n",
       " 'README.md',\n",
       " '14-Working-with-Images',\n",
       " '04-Milestone Project - 1',\n",
       " '05-Object Oriented Programming',\n",
       " '.ipynb_checkpoints',\n",
       " '00-Python Object and Data Structure Basics',\n",
       " '.git',\n",
       " '15-PDFs-and-Spreadsheets',\n",
       " 'VA_scratchpad.ipynb',\n",
       " '10-Python Decorators',\n",
       " '02-Python Statements',\n",
       " '13-Web-Scraping']"
      ]
     },
     "execution_count": 8,
     "metadata": {},
     "output_type": "execute_result"
    }
   ],
   "source": [
    "os.listdir()"
   ]
  },
  {
   "cell_type": "code",
   "execution_count": 9,
   "metadata": {},
   "outputs": [
    {
     "data": {
      "text/plain": [
       "['vladavramenko', '.localized', 'Shared']"
      ]
     },
     "execution_count": 9,
     "metadata": {},
     "output_type": "execute_result"
    }
   ],
   "source": [
    "os.listdir('/Users')"
   ]
  },
  {
   "cell_type": "code",
   "execution_count": 10,
   "metadata": {},
   "outputs": [],
   "source": [
    "import shutil"
   ]
  },
  {
   "cell_type": "code",
   "execution_count": 11,
   "metadata": {},
   "outputs": [
    {
     "data": {
      "text/plain": [
       "'/Users/vladavramenko/Documents/practice.txt'"
      ]
     },
     "execution_count": 11,
     "metadata": {},
     "output_type": "execute_result"
    }
   ],
   "source": [
    "shutil.move('practice.txt','/Users/vladavramenko/Documents')"
   ]
  },
  {
   "cell_type": "code",
   "execution_count": 17,
   "metadata": {},
   "outputs": [
    {
     "data": {
      "text/plain": [
       "['NAvramenko8-PL1-4:11:2023 copy.pdf',\n",
       " 'Quebec Speeding Ticket Payment Receipt.pdf',\n",
       " 'NORTHEAST ARMS LLC.pdf',\n",
       " '.DS_Store',\n",
       " 'League of Legends',\n",
       " 'AWS_Docs',\n",
       " 'Options_certificate.pdf',\n",
       " 'bash_profile',\n",
       " 'TheoTrade',\n",
       " 'Python',\n",
       " '.localized',\n",
       " 'AlisasImmiDocs',\n",
       " 'Topstep Trader Checklist.pdf',\n",
       " 'dockerfile',\n",
       " 'redstrat_github_token',\n",
       " 'Nick Avramenko eval proposal copy.pdf',\n",
       " 'commandlinebasics',\n",
       " 'Taxes2022',\n",
       " 'AvramenkoSchoolTripVerification.pdf',\n",
       " 'Hoffman_Process.pdf',\n",
       " 'Avramenko_MEDICARE.pdf',\n",
       " 'VA_Passport.pdf',\n",
       " 'OrthoCare_47.58.pdf',\n",
       " 'rasp_ssh.txt',\n",
       " 'SMB_Scalping',\n",
       " 'CPAP.pdf',\n",
       " 'signa.jpg',\n",
       " 'Avramenko_Recept.pdf',\n",
       " 'DocsForAnton',\n",
       " 'StockTradingMaterials',\n",
       " 'BenefitsDocs4IntEssentials',\n",
       " 'NeliasPassport.PDF',\n",
       " 'statement dated 2023-10-28 (1).pdf',\n",
       " 'Membership-Application revised 012821 copy.pdf',\n",
       " 'NAvramenko8-IEP&TPF-4:11:2023 copy.pdf',\n",
       " '2022-06-01-AccountStatement.csv',\n",
       " 'VALicBack.jpeg',\n",
       " 'tf_code',\n",
       " 'Tasty',\n",
       " '.ipynb_checkpoints',\n",
       " 'Taxes2020',\n",
       " 'VladsDrivesLic.pdf',\n",
       " 'HondaIns.pdf',\n",
       " 'Taxes2021',\n",
       " 'LenkaDocs',\n",
       " 'rolloverIRAStatement.pdf',\n",
       " 'Lynn_Lease.pdf',\n",
       " 'Dadscalling.m4a',\n",
       " 'enrollmentconfirmation10282021122917.pdf',\n",
       " 'VALicFron.jpeg',\n",
       " 'OptionsForm.pdf']"
      ]
     },
     "execution_count": 17,
     "metadata": {},
     "output_type": "execute_result"
    }
   ],
   "source": [
    "os.listdir('/Users/vladavramenko/Documents')"
   ]
  },
  {
   "cell_type": "code",
   "execution_count": 15,
   "metadata": {},
   "outputs": [
    {
     "data": {
      "text/plain": [
       "'/Users/vladavramenko/Documents/Python/Complete-Python-3-Bootcamp'"
      ]
     },
     "execution_count": 15,
     "metadata": {},
     "output_type": "execute_result"
    }
   ],
   "source": [
    "os.getcwd()"
   ]
  },
  {
   "cell_type": "code",
   "execution_count": 16,
   "metadata": {},
   "outputs": [
    {
     "data": {
      "text/plain": [
       "'/Users/vladavramenko/Documents/Python/Complete-Python-3-Bootcamp/practice.txt'"
      ]
     },
     "execution_count": 16,
     "metadata": {},
     "output_type": "execute_result"
    }
   ],
   "source": [
    "shutil.move('/Users/vladavramenko/Documents/practice.txt',os.getcwd())"
   ]
  },
  {
   "cell_type": "code",
   "execution_count": 22,
   "metadata": {},
   "outputs": [
    {
     "data": {
      "text/plain": [
       "['Pierian_Data_Logo.png',\n",
       " '18-Milestone Project - 3',\n",
       " '19-Bonus Material - Introduction to GUIs',\n",
       " '12-Advanced Python Modules',\n",
       " '03-Methods and Functions',\n",
       " '07-Errors and Exception Handling',\n",
       " '.DS_Store',\n",
       " '11-Python Generators',\n",
       " '06-Modules and Packages',\n",
       " '16-Emailing-with-Python',\n",
       " '01-Python Comparison Operators',\n",
       " 'Jupyter (iPython) Notebooks Guide.ipynb',\n",
       " '09-Empty-Section-Skip',\n",
       " '17-Advanced Python Objects and Data Structures',\n",
       " '08-Milestone Project - 2',\n",
       " 'README.md',\n",
       " '14-Working-with-Images',\n",
       " '04-Milestone Project - 1',\n",
       " '05-Object Oriented Programming',\n",
       " '.ipynb_checkpoints',\n",
       " '00-Python Object and Data Structure Basics',\n",
       " '.git',\n",
       " '15-PDFs-and-Spreadsheets',\n",
       " 'VA_scratchpad.ipynb',\n",
       " '10-Python Decorators',\n",
       " '02-Python Statements',\n",
       " '13-Web-Scraping']"
      ]
     },
     "execution_count": 22,
     "metadata": {},
     "output_type": "execute_result"
    }
   ],
   "source": [
    "os.listdir()"
   ]
  },
  {
   "cell_type": "code",
   "execution_count": 19,
   "metadata": {},
   "outputs": [],
   "source": [
    "import send2trash"
   ]
  },
  {
   "cell_type": "code",
   "execution_count": 21,
   "metadata": {},
   "outputs": [],
   "source": [
    "send2trash.send2trash('practice.txt')"
   ]
  },
  {
   "cell_type": "code",
   "execution_count": 23,
   "metadata": {},
   "outputs": [
    {
     "data": {
      "text/plain": [
       "<function posix.listdir(path=None)>"
      ]
     },
     "execution_count": 23,
     "metadata": {},
     "output_type": "execute_result"
    }
   ],
   "source": [
    "os.listdir"
   ]
  },
  {
   "cell_type": "code",
   "execution_count": 24,
   "metadata": {},
   "outputs": [
    {
     "data": {
      "text/plain": [
       "['Pierian_Data_Logo.png',\n",
       " '18-Milestone Project - 3',\n",
       " '19-Bonus Material - Introduction to GUIs',\n",
       " '12-Advanced Python Modules',\n",
       " '03-Methods and Functions',\n",
       " '07-Errors and Exception Handling',\n",
       " '.DS_Store',\n",
       " '11-Python Generators',\n",
       " '06-Modules and Packages',\n",
       " '16-Emailing-with-Python',\n",
       " '01-Python Comparison Operators',\n",
       " 'Jupyter (iPython) Notebooks Guide.ipynb',\n",
       " '09-Empty-Section-Skip',\n",
       " '17-Advanced Python Objects and Data Structures',\n",
       " '08-Milestone Project - 2',\n",
       " 'README.md',\n",
       " '14-Working-with-Images',\n",
       " '04-Milestone Project - 1',\n",
       " '05-Object Oriented Programming',\n",
       " '.ipynb_checkpoints',\n",
       " '00-Python Object and Data Structure Basics',\n",
       " '.git',\n",
       " '15-PDFs-and-Spreadsheets',\n",
       " 'VA_scratchpad.ipynb',\n",
       " '10-Python Decorators',\n",
       " '02-Python Statements',\n",
       " '13-Web-Scraping']"
      ]
     },
     "execution_count": 24,
     "metadata": {},
     "output_type": "execute_result"
    }
   ],
   "source": [
    "os.listdir()"
   ]
  },
  {
   "cell_type": "code",
   "execution_count": 25,
   "metadata": {},
   "outputs": [
    {
     "data": {
      "text/plain": [
       "'/Users/vladavramenko/Documents/Python/Complete-Python-3-Bootcamp'"
      ]
     },
     "execution_count": 25,
     "metadata": {},
     "output_type": "execute_result"
    }
   ],
   "source": [
    "os.getcwd()"
   ]
  },
  {
   "cell_type": "code",
   "execution_count": 29,
   "metadata": {},
   "outputs": [],
   "source": [
    "file_path = '/Users/vladavramenko/Documents/Python/Complete-Python-3-Bootcamp/Advanced Python Modules/Example_Top_Level/'\n"
   ]
  },
  {
   "cell_type": "code",
   "execution_count": 31,
   "metadata": {},
   "outputs": [
    {
     "ename": "FileNotFoundError",
     "evalue": "[Errno 2] No such file or directory: '/Users/vladavramenko/Documents/Python/Complete-Python-3-Bootcamp/Advanced Python Modules/Example_Top_Level/'",
     "output_type": "error",
     "traceback": [
      "\u001b[0;31m---------------------------------------------------------------------------\u001b[0m",
      "\u001b[0;31mFileNotFoundError\u001b[0m                         Traceback (most recent call last)",
      "\u001b[0;32m/var/folders/cq/123dqjh510j7m81tp459cj640000gn/T/ipykernel_33424/3883853732.py\u001b[0m in \u001b[0;36m<module>\u001b[0;34m\u001b[0m\n\u001b[0;32m----> 1\u001b[0;31m \u001b[0mos\u001b[0m\u001b[0;34m.\u001b[0m\u001b[0mlistdir\u001b[0m\u001b[0;34m(\u001b[0m\u001b[0mfile_path\u001b[0m\u001b[0;34m)\u001b[0m\u001b[0;34m\u001b[0m\u001b[0;34m\u001b[0m\u001b[0m\n\u001b[0m",
      "\u001b[0;31mFileNotFoundError\u001b[0m: [Errno 2] No such file or directory: '/Users/vladavramenko/Documents/Python/Complete-Python-3-Bootcamp/Advanced Python Modules/Example_Top_Level/'"
     ]
    }
   ],
   "source": [
    "os.listdir(file_path)"
   ]
  },
  {
   "cell_type": "code",
   "execution_count": 30,
   "metadata": {},
   "outputs": [],
   "source": [
    "for folder,sub_folders,files in os.walk(file_path):\n",
    "    print(f\"Currently looking at {folder}\")\n",
    "    print('\\n')\n",
    "    print(\"Subfolders are: \")\n",
    "    for sub_fold in sub_folders:\n",
    "        print(f\"Currently looking at subfolder {sub_fold}\")\n",
    "        print('\\n')\n",
    "        print(\"The files are: \")\n",
    "        for f in files:\n",
    "            print(f\"\\t File: {f}\")\n",
    "            print('\\n')"
   ]
  },
  {
   "cell_type": "code",
   "execution_count": 33,
   "metadata": {},
   "outputs": [],
   "source": [
    "import math"
   ]
  },
  {
   "cell_type": "code",
   "execution_count": 34,
   "metadata": {},
   "outputs": [
    {
     "name": "stdout",
     "output_type": "stream",
     "text": [
      "Help on module math:\n",
      "\n",
      "NAME\n",
      "    math\n",
      "\n",
      "MODULE REFERENCE\n",
      "    https://docs.python.org/3.9/library/math\n",
      "    \n",
      "    The following documentation is automatically generated from the Python\n",
      "    source files.  It may be incomplete, incorrect or include features that\n",
      "    are considered implementation detail and may vary between Python\n",
      "    implementations.  When in doubt, consult the module reference at the\n",
      "    location listed above.\n",
      "\n",
      "DESCRIPTION\n",
      "    This module provides access to the mathematical functions\n",
      "    defined by the C standard.\n",
      "\n",
      "FUNCTIONS\n",
      "    acos(x, /)\n",
      "        Return the arc cosine (measured in radians) of x.\n",
      "        \n",
      "        The result is between 0 and pi.\n",
      "    \n",
      "    acosh(x, /)\n",
      "        Return the inverse hyperbolic cosine of x.\n",
      "    \n",
      "    asin(x, /)\n",
      "        Return the arc sine (measured in radians) of x.\n",
      "        \n",
      "        The result is between -pi/2 and pi/2.\n",
      "    \n",
      "    asinh(x, /)\n",
      "        Return the inverse hyperbolic sine of x.\n",
      "    \n",
      "    atan(x, /)\n",
      "        Return the arc tangent (measured in radians) of x.\n",
      "        \n",
      "        The result is between -pi/2 and pi/2.\n",
      "    \n",
      "    atan2(y, x, /)\n",
      "        Return the arc tangent (measured in radians) of y/x.\n",
      "        \n",
      "        Unlike atan(y/x), the signs of both x and y are considered.\n",
      "    \n",
      "    atanh(x, /)\n",
      "        Return the inverse hyperbolic tangent of x.\n",
      "    \n",
      "    ceil(x, /)\n",
      "        Return the ceiling of x as an Integral.\n",
      "        \n",
      "        This is the smallest integer >= x.\n",
      "    \n",
      "    comb(n, k, /)\n",
      "        Number of ways to choose k items from n items without repetition and without order.\n",
      "        \n",
      "        Evaluates to n! / (k! * (n - k)!) when k <= n and evaluates\n",
      "        to zero when k > n.\n",
      "        \n",
      "        Also called the binomial coefficient because it is equivalent\n",
      "        to the coefficient of k-th term in polynomial expansion of the\n",
      "        expression (1 + x)**n.\n",
      "        \n",
      "        Raises TypeError if either of the arguments are not integers.\n",
      "        Raises ValueError if either of the arguments are negative.\n",
      "    \n",
      "    copysign(x, y, /)\n",
      "        Return a float with the magnitude (absolute value) of x but the sign of y.\n",
      "        \n",
      "        On platforms that support signed zeros, copysign(1.0, -0.0)\n",
      "        returns -1.0.\n",
      "    \n",
      "    cos(x, /)\n",
      "        Return the cosine of x (measured in radians).\n",
      "    \n",
      "    cosh(x, /)\n",
      "        Return the hyperbolic cosine of x.\n",
      "    \n",
      "    degrees(x, /)\n",
      "        Convert angle x from radians to degrees.\n",
      "    \n",
      "    dist(p, q, /)\n",
      "        Return the Euclidean distance between two points p and q.\n",
      "        \n",
      "        The points should be specified as sequences (or iterables) of\n",
      "        coordinates.  Both inputs must have the same dimension.\n",
      "        \n",
      "        Roughly equivalent to:\n",
      "            sqrt(sum((px - qx) ** 2.0 for px, qx in zip(p, q)))\n",
      "    \n",
      "    erf(x, /)\n",
      "        Error function at x.\n",
      "    \n",
      "    erfc(x, /)\n",
      "        Complementary error function at x.\n",
      "    \n",
      "    exp(x, /)\n",
      "        Return e raised to the power of x.\n",
      "    \n",
      "    expm1(x, /)\n",
      "        Return exp(x)-1.\n",
      "        \n",
      "        This function avoids the loss of precision involved in the direct evaluation of exp(x)-1 for small x.\n",
      "    \n",
      "    fabs(x, /)\n",
      "        Return the absolute value of the float x.\n",
      "    \n",
      "    factorial(x, /)\n",
      "        Find x!.\n",
      "        \n",
      "        Raise a ValueError if x is negative or non-integral.\n",
      "    \n",
      "    floor(x, /)\n",
      "        Return the floor of x as an Integral.\n",
      "        \n",
      "        This is the largest integer <= x.\n",
      "    \n",
      "    fmod(x, y, /)\n",
      "        Return fmod(x, y), according to platform C.\n",
      "        \n",
      "        x % y may differ.\n",
      "    \n",
      "    frexp(x, /)\n",
      "        Return the mantissa and exponent of x, as pair (m, e).\n",
      "        \n",
      "        m is a float and e is an int, such that x = m * 2.**e.\n",
      "        If x is 0, m and e are both 0.  Else 0.5 <= abs(m) < 1.0.\n",
      "    \n",
      "    fsum(seq, /)\n",
      "        Return an accurate floating point sum of values in the iterable seq.\n",
      "        \n",
      "        Assumes IEEE-754 floating point arithmetic.\n",
      "    \n",
      "    gamma(x, /)\n",
      "        Gamma function at x.\n",
      "    \n",
      "    gcd(*integers)\n",
      "        Greatest Common Divisor.\n",
      "    \n",
      "    hypot(...)\n",
      "        hypot(*coordinates) -> value\n",
      "        \n",
      "        Multidimensional Euclidean distance from the origin to a point.\n",
      "        \n",
      "        Roughly equivalent to:\n",
      "            sqrt(sum(x**2 for x in coordinates))\n",
      "        \n",
      "        For a two dimensional point (x, y), gives the hypotenuse\n",
      "        using the Pythagorean theorem:  sqrt(x*x + y*y).\n",
      "        \n",
      "        For example, the hypotenuse of a 3/4/5 right triangle is:\n",
      "        \n",
      "            >>> hypot(3.0, 4.0)\n",
      "            5.0\n",
      "    \n",
      "    isclose(a, b, *, rel_tol=1e-09, abs_tol=0.0)\n",
      "        Determine whether two floating point numbers are close in value.\n",
      "        \n",
      "          rel_tol\n",
      "            maximum difference for being considered \"close\", relative to the\n",
      "            magnitude of the input values\n",
      "          abs_tol\n",
      "            maximum difference for being considered \"close\", regardless of the\n",
      "            magnitude of the input values\n",
      "        \n",
      "        Return True if a is close in value to b, and False otherwise.\n",
      "        \n",
      "        For the values to be considered close, the difference between them\n",
      "        must be smaller than at least one of the tolerances.\n",
      "        \n",
      "        -inf, inf and NaN behave similarly to the IEEE 754 Standard.  That\n",
      "        is, NaN is not close to anything, even itself.  inf and -inf are\n",
      "        only close to themselves.\n",
      "    \n",
      "    isfinite(x, /)\n",
      "        Return True if x is neither an infinity nor a NaN, and False otherwise.\n",
      "    \n",
      "    isinf(x, /)\n",
      "        Return True if x is a positive or negative infinity, and False otherwise.\n",
      "    \n",
      "    isnan(x, /)\n",
      "        Return True if x is a NaN (not a number), and False otherwise.\n",
      "    \n",
      "    isqrt(n, /)\n",
      "        Return the integer part of the square root of the input.\n",
      "    \n",
      "    lcm(*integers)\n",
      "        Least Common Multiple.\n",
      "    \n",
      "    ldexp(x, i, /)\n",
      "        Return x * (2**i).\n",
      "        \n",
      "        This is essentially the inverse of frexp().\n",
      "    \n",
      "    lgamma(x, /)\n",
      "        Natural logarithm of absolute value of Gamma function at x.\n",
      "    \n",
      "    log(...)\n",
      "        log(x, [base=math.e])\n",
      "        Return the logarithm of x to the given base.\n",
      "        \n",
      "        If the base not specified, returns the natural logarithm (base e) of x.\n",
      "    \n",
      "    log10(x, /)\n",
      "        Return the base 10 logarithm of x.\n",
      "    \n",
      "    log1p(x, /)\n",
      "        Return the natural logarithm of 1+x (base e).\n",
      "        \n",
      "        The result is computed in a way which is accurate for x near zero.\n",
      "    \n",
      "    log2(x, /)\n",
      "        Return the base 2 logarithm of x.\n",
      "    \n",
      "    modf(x, /)\n",
      "        Return the fractional and integer parts of x.\n",
      "        \n",
      "        Both results carry the sign of x and are floats.\n",
      "    \n",
      "    nextafter(x, y, /)\n",
      "        Return the next floating-point value after x towards y.\n",
      "    \n",
      "    perm(n, k=None, /)\n",
      "        Number of ways to choose k items from n items without repetition and with order.\n",
      "        \n",
      "        Evaluates to n! / (n - k)! when k <= n and evaluates\n",
      "        to zero when k > n.\n",
      "        \n",
      "        If k is not specified or is None, then k defaults to n\n",
      "        and the function returns n!.\n",
      "        \n",
      "        Raises TypeError if either of the arguments are not integers.\n",
      "        Raises ValueError if either of the arguments are negative.\n",
      "    \n",
      "    pow(x, y, /)\n",
      "        Return x**y (x to the power of y).\n",
      "    \n",
      "    prod(iterable, /, *, start=1)\n",
      "        Calculate the product of all the elements in the input iterable.\n",
      "        \n",
      "        The default start value for the product is 1.\n",
      "        \n",
      "        When the iterable is empty, return the start value.  This function is\n",
      "        intended specifically for use with numeric values and may reject\n",
      "        non-numeric types.\n",
      "    \n",
      "    radians(x, /)\n",
      "        Convert angle x from degrees to radians.\n",
      "    \n",
      "    remainder(x, y, /)\n",
      "        Difference between x and the closest integer multiple of y.\n",
      "        \n",
      "        Return x - n*y where n*y is the closest integer multiple of y.\n",
      "        In the case where x is exactly halfway between two multiples of\n",
      "        y, the nearest even value of n is used. The result is always exact.\n",
      "    \n",
      "    sin(x, /)\n",
      "        Return the sine of x (measured in radians).\n",
      "    \n",
      "    sinh(x, /)\n",
      "        Return the hyperbolic sine of x.\n",
      "    \n",
      "    sqrt(x, /)\n",
      "        Return the square root of x.\n",
      "    \n",
      "    tan(x, /)\n",
      "        Return the tangent of x (measured in radians).\n",
      "    \n",
      "    tanh(x, /)\n",
      "        Return the hyperbolic tangent of x.\n",
      "    \n",
      "    trunc(x, /)\n",
      "        Truncates the Real x to the nearest Integral toward 0.\n",
      "        \n",
      "        Uses the __trunc__ magic method.\n",
      "    \n",
      "    ulp(x, /)\n",
      "        Return the value of the least significant bit of the float x.\n",
      "\n",
      "DATA\n",
      "    e = 2.718281828459045\n",
      "    inf = inf\n",
      "    nan = nan\n",
      "    pi = 3.141592653589793\n",
      "    tau = 6.283185307179586\n",
      "\n",
      "FILE\n",
      "    /Users/vladavramenko/opt/anaconda3/lib/python3.9/lib-dynload/math.cpython-39-darwin.so\n",
      "\n",
      "\n"
     ]
    }
   ],
   "source": [
    "help(math)"
   ]
  },
  {
   "cell_type": "code",
   "execution_count": 35,
   "metadata": {},
   "outputs": [],
   "source": [
    "import re"
   ]
  },
  {
   "cell_type": "code",
   "execution_count": 36,
   "metadata": {},
   "outputs": [],
   "source": [
    "pattern = \"test\""
   ]
  },
  {
   "cell_type": "code",
   "execution_count": 37,
   "metadata": {},
   "outputs": [],
   "source": [
    "text = \"this is not a test\""
   ]
  },
  {
   "cell_type": "code",
   "execution_count": 39,
   "metadata": {},
   "outputs": [],
   "source": [
    "match = re.search(pattern,text)"
   ]
  },
  {
   "cell_type": "code",
   "execution_count": 42,
   "metadata": {},
   "outputs": [
    {
     "data": {
      "text/plain": [
       "(14, 18)"
      ]
     },
     "execution_count": 42,
     "metadata": {},
     "output_type": "execute_result"
    }
   ],
   "source": [
    "match.span()"
   ]
  },
  {
   "cell_type": "code",
   "execution_count": 43,
   "metadata": {},
   "outputs": [],
   "source": [
    "mystr = \"my phone is 781-929-5421\""
   ]
  },
  {
   "cell_type": "code",
   "execution_count": 48,
   "metadata": {},
   "outputs": [],
   "source": [
    "pattern = r\"\\d{3}-\\d{3}-\\d{4}\""
   ]
  },
  {
   "cell_type": "code",
   "execution_count": 49,
   "metadata": {},
   "outputs": [
    {
     "data": {
      "text/plain": [
       "<re.Match object; span=(12, 24), match='781-929-5421'>"
      ]
     },
     "execution_count": 49,
     "metadata": {},
     "output_type": "execute_result"
    }
   ],
   "source": [
    "re.search(pattern,mystr)"
   ]
  },
  {
   "cell_type": "code",
   "execution_count": 52,
   "metadata": {},
   "outputs": [],
   "source": [
    "pattern = re.compile(r\"(\\d{3})-(\\d{3})-(\\d{4})\")"
   ]
  },
  {
   "cell_type": "code",
   "execution_count": 53,
   "metadata": {},
   "outputs": [],
   "source": [
    "match = re.search(pattern,mystr)"
   ]
  },
  {
   "cell_type": "code",
   "execution_count": 54,
   "metadata": {},
   "outputs": [
    {
     "data": {
      "text/plain": [
       "<function Match.group>"
      ]
     },
     "execution_count": 54,
     "metadata": {},
     "output_type": "execute_result"
    }
   ],
   "source": [
    "match.group"
   ]
  },
  {
   "cell_type": "code",
   "execution_count": 56,
   "metadata": {},
   "outputs": [
    {
     "data": {
      "text/plain": [
       "'781-929-5421'"
      ]
     },
     "execution_count": 56,
     "metadata": {},
     "output_type": "execute_result"
    }
   ],
   "source": [
    "match.group()"
   ]
  },
  {
   "cell_type": "code",
   "execution_count": 57,
   "metadata": {},
   "outputs": [
    {
     "data": {
      "text/plain": [
       "'781'"
      ]
     },
     "execution_count": 57,
     "metadata": {},
     "output_type": "execute_result"
    }
   ],
   "source": [
    "match.group(1)"
   ]
  },
  {
   "cell_type": "code",
   "execution_count": 58,
   "metadata": {},
   "outputs": [],
   "source": [
    "import timeit"
   ]
  },
  {
   "cell_type": "code",
   "execution_count": 59,
   "metadata": {},
   "outputs": [
    {
     "ename": "AttributeError",
     "evalue": "module 'timeit' has no attribute 'help'",
     "output_type": "error",
     "traceback": [
      "\u001b[0;31m---------------------------------------------------------------------------\u001b[0m",
      "\u001b[0;31mAttributeError\u001b[0m                            Traceback (most recent call last)",
      "\u001b[0;32m/var/folders/cq/123dqjh510j7m81tp459cj640000gn/T/ipykernel_33424/1018084029.py\u001b[0m in \u001b[0;36m<module>\u001b[0;34m\u001b[0m\n\u001b[0;32m----> 1\u001b[0;31m \u001b[0mtimeit\u001b[0m\u001b[0;34m.\u001b[0m\u001b[0mhelp\u001b[0m\u001b[0;34m\u001b[0m\u001b[0;34m\u001b[0m\u001b[0m\n\u001b[0m",
      "\u001b[0;31mAttributeError\u001b[0m: module 'timeit' has no attribute 'help'"
     ]
    }
   ],
   "source": [
    "timeit.help\n"
   ]
  },
  {
   "cell_type": "code",
   "execution_count": 60,
   "metadata": {},
   "outputs": [
    {
     "ename": "AttributeError",
     "evalue": "module 'timeit' has no attribute 'help'",
     "output_type": "error",
     "traceback": [
      "\u001b[0;31m---------------------------------------------------------------------------\u001b[0m",
      "\u001b[0;31mAttributeError\u001b[0m                            Traceback (most recent call last)",
      "\u001b[0;32m/var/folders/cq/123dqjh510j7m81tp459cj640000gn/T/ipykernel_33424/1126374120.py\u001b[0m in \u001b[0;36m<module>\u001b[0;34m\u001b[0m\n\u001b[0;32m----> 1\u001b[0;31m \u001b[0mtimeit\u001b[0m\u001b[0;34m.\u001b[0m\u001b[0mhelp\u001b[0m\u001b[0;34m(\u001b[0m\u001b[0;34m)\u001b[0m\u001b[0;34m\u001b[0m\u001b[0;34m\u001b[0m\u001b[0m\n\u001b[0m",
      "\u001b[0;31mAttributeError\u001b[0m: module 'timeit' has no attribute 'help'"
     ]
    }
   ],
   "source": [
    "timeit.help()"
   ]
  },
  {
   "cell_type": "code",
   "execution_count": 61,
   "metadata": {},
   "outputs": [
    {
     "name": "stdout",
     "output_type": "stream",
     "text": [
      "Help on module timeit:\n",
      "\n",
      "NAME\n",
      "    timeit - Tool for measuring execution time of small code snippets.\n",
      "\n",
      "MODULE REFERENCE\n",
      "    https://docs.python.org/3.9/library/timeit\n",
      "    \n",
      "    The following documentation is automatically generated from the Python\n",
      "    source files.  It may be incomplete, incorrect or include features that\n",
      "    are considered implementation detail and may vary between Python\n",
      "    implementations.  When in doubt, consult the module reference at the\n",
      "    location listed above.\n",
      "\n",
      "DESCRIPTION\n",
      "    This module avoids a number of common traps for measuring execution\n",
      "    times.  See also Tim Peters' introduction to the Algorithms chapter in\n",
      "    the Python Cookbook, published by O'Reilly.\n",
      "    \n",
      "    Library usage: see the Timer class.\n",
      "    \n",
      "    Command line usage:\n",
      "        python timeit.py [-n N] [-r N] [-s S] [-p] [-h] [--] [statement]\n",
      "    \n",
      "    Options:\n",
      "      -n/--number N: how many times to execute 'statement' (default: see below)\n",
      "      -r/--repeat N: how many times to repeat the timer (default 5)\n",
      "      -s/--setup S: statement to be executed once initially (default 'pass').\n",
      "                    Execution time of this setup statement is NOT timed.\n",
      "      -p/--process: use time.process_time() (default is time.perf_counter())\n",
      "      -v/--verbose: print raw timing results; repeat for more digits precision\n",
      "      -u/--unit: set the output time unit (nsec, usec, msec, or sec)\n",
      "      -h/--help: print this usage message and exit\n",
      "      --: separate options from statement, use when statement starts with -\n",
      "      statement: statement to be timed (default 'pass')\n",
      "    \n",
      "    A multi-line statement may be given by specifying each line as a\n",
      "    separate argument; indented lines are possible by enclosing an\n",
      "    argument in quotes and using leading spaces.  Multiple -s options are\n",
      "    treated similarly.\n",
      "    \n",
      "    If -n is not given, a suitable number of loops is calculated by trying\n",
      "    increasing numbers from the sequence 1, 2, 5, 10, 20, 50, ... until the\n",
      "    total time is at least 0.2 seconds.\n",
      "    \n",
      "    Note: there is a certain baseline overhead associated with executing a\n",
      "    pass statement.  It differs between versions.  The code here doesn't try\n",
      "    to hide it, but you should be aware of it.  The baseline overhead can be\n",
      "    measured by invoking the program without arguments.\n",
      "    \n",
      "    Classes:\n",
      "    \n",
      "        Timer\n",
      "    \n",
      "    Functions:\n",
      "    \n",
      "        timeit(string, string) -> float\n",
      "        repeat(string, string) -> list\n",
      "        default_timer() -> float\n",
      "\n",
      "CLASSES\n",
      "    builtins.object\n",
      "        Timer\n",
      "    \n",
      "    class Timer(builtins.object)\n",
      "     |  Timer(stmt='pass', setup='pass', timer=<built-in function perf_counter>, globals=None)\n",
      "     |  \n",
      "     |  Class for timing execution speed of small code snippets.\n",
      "     |  \n",
      "     |  The constructor takes a statement to be timed, an additional\n",
      "     |  statement used for setup, and a timer function.  Both statements\n",
      "     |  default to 'pass'; the timer function is platform-dependent (see\n",
      "     |  module doc string).  If 'globals' is specified, the code will be\n",
      "     |  executed within that namespace (as opposed to inside timeit's\n",
      "     |  namespace).\n",
      "     |  \n",
      "     |  To measure the execution time of the first statement, use the\n",
      "     |  timeit() method.  The repeat() method is a convenience to call\n",
      "     |  timeit() multiple times and return a list of results.\n",
      "     |  \n",
      "     |  The statements may contain newlines, as long as they don't contain\n",
      "     |  multi-line string literals.\n",
      "     |  \n",
      "     |  Methods defined here:\n",
      "     |  \n",
      "     |  __init__(self, stmt='pass', setup='pass', timer=<built-in function perf_counter>, globals=None)\n",
      "     |      Constructor.  See class doc string.\n",
      "     |  \n",
      "     |  autorange(self, callback=None)\n",
      "     |      Return the number of loops and time taken so that total time >= 0.2.\n",
      "     |      \n",
      "     |      Calls the timeit method with increasing numbers from the sequence\n",
      "     |      1, 2, 5, 10, 20, 50, ... until the time taken is at least 0.2\n",
      "     |      second.  Returns (number, time_taken).\n",
      "     |      \n",
      "     |      If *callback* is given and is not None, it will be called after\n",
      "     |      each trial with two arguments: ``callback(number, time_taken)``.\n",
      "     |  \n",
      "     |  print_exc(self, file=None)\n",
      "     |      Helper to print a traceback from the timed code.\n",
      "     |      \n",
      "     |      Typical use:\n",
      "     |      \n",
      "     |          t = Timer(...)       # outside the try/except\n",
      "     |          try:\n",
      "     |              t.timeit(...)    # or t.repeat(...)\n",
      "     |          except:\n",
      "     |              t.print_exc()\n",
      "     |      \n",
      "     |      The advantage over the standard traceback is that source lines\n",
      "     |      in the compiled template will be displayed.\n",
      "     |      \n",
      "     |      The optional file argument directs where the traceback is\n",
      "     |      sent; it defaults to sys.stderr.\n",
      "     |  \n",
      "     |  repeat(self, repeat=5, number=1000000)\n",
      "     |      Call timeit() a few times.\n",
      "     |      \n",
      "     |      This is a convenience function that calls the timeit()\n",
      "     |      repeatedly, returning a list of results.  The first argument\n",
      "     |      specifies how many times to call timeit(), defaulting to 5;\n",
      "     |      the second argument specifies the timer argument, defaulting\n",
      "     |      to one million.\n",
      "     |      \n",
      "     |      Note: it's tempting to calculate mean and standard deviation\n",
      "     |      from the result vector and report these.  However, this is not\n",
      "     |      very useful.  In a typical case, the lowest value gives a\n",
      "     |      lower bound for how fast your machine can run the given code\n",
      "     |      snippet; higher values in the result vector are typically not\n",
      "     |      caused by variability in Python's speed, but by other\n",
      "     |      processes interfering with your timing accuracy.  So the min()\n",
      "     |      of the result is probably the only number you should be\n",
      "     |      interested in.  After that, you should look at the entire\n",
      "     |      vector and apply common sense rather than statistics.\n",
      "     |  \n",
      "     |  timeit(self, number=1000000)\n",
      "     |      Time 'number' executions of the main statement.\n",
      "     |      \n",
      "     |      To be precise, this executes the setup statement once, and\n",
      "     |      then returns the time it takes to execute the main statement\n",
      "     |      a number of times, as a float measured in seconds.  The\n",
      "     |      argument is the number of times through the loop, defaulting\n",
      "     |      to one million.  The main statement, the setup statement and\n",
      "     |      the timer function to be used are passed to the constructor.\n",
      "     |  \n",
      "     |  ----------------------------------------------------------------------\n",
      "     |  Data descriptors defined here:\n",
      "     |  \n",
      "     |  __dict__\n",
      "     |      dictionary for instance variables (if defined)\n",
      "     |  \n",
      "     |  __weakref__\n",
      "     |      list of weak references to the object (if defined)\n",
      "\n",
      "FUNCTIONS\n",
      "    default_timer = perf_counter(...)\n",
      "        perf_counter() -> float\n",
      "        \n",
      "        Performance counter for benchmarking.\n",
      "    \n",
      "    repeat(stmt='pass', setup='pass', timer=<built-in function perf_counter>, repeat=5, number=1000000, globals=None)\n",
      "        Convenience function to create Timer object and call repeat method.\n",
      "    \n",
      "    timeit(stmt='pass', setup='pass', timer=<built-in function perf_counter>, number=1000000, globals=None)\n",
      "        Convenience function to create Timer object and call timeit method.\n",
      "\n",
      "DATA\n",
      "    __all__ = ['Timer', 'timeit', 'repeat', 'default_timer']\n",
      "\n",
      "FILE\n",
      "    /Users/vladavramenko/opt/anaconda3/lib/python3.9/timeit.py\n",
      "\n",
      "\n"
     ]
    }
   ],
   "source": [
    "help(timeit)"
   ]
  },
  {
   "cell_type": "code",
   "execution_count": 62,
   "metadata": {},
   "outputs": [
    {
     "name": "stderr",
     "output_type": "stream",
     "text": [
      "UsageError: %%timeit is a cell magic, but the cell body is empty. Did you mean the line magic %timeit (single %)?\n"
     ]
    }
   ],
   "source": [
    "%%timeit"
   ]
  },
  {
   "cell_type": "code",
   "execution_count": 66,
   "metadata": {},
   "outputs": [],
   "source": [
    "def func_one(n):\n",
    "    return [str(num) for num in range(n)]"
   ]
  },
  {
   "cell_type": "code",
   "execution_count": 67,
   "metadata": {},
   "outputs": [
    {
     "data": {
      "text/plain": [
       "['0', '1', '2', '3', '4', '5', '6', '7', '8', '9']"
      ]
     },
     "execution_count": 67,
     "metadata": {},
     "output_type": "execute_result"
    }
   ],
   "source": [
    "func_one(10)"
   ]
  },
  {
   "cell_type": "code",
   "execution_count": 70,
   "metadata": {},
   "outputs": [],
   "source": [
    "def func_two(n):\n",
    "    return list(map(str,range(n)))"
   ]
  },
  {
   "cell_type": "code",
   "execution_count": 71,
   "metadata": {},
   "outputs": [
    {
     "data": {
      "text/plain": [
       "['0', '1', '2', '3', '4', '5', '6', '7', '8', '9']"
      ]
     },
     "execution_count": 71,
     "metadata": {},
     "output_type": "execute_result"
    }
   ],
   "source": [
    "func_two(10)"
   ]
  },
  {
   "cell_type": "code",
   "execution_count": 73,
   "metadata": {},
   "outputs": [
    {
     "name": "stdout",
     "output_type": "stream",
     "text": [
      "39.9 ns ± 0.0178 ns per loop (mean ± std. dev. of 7 runs, 10000000 loops each)\n"
     ]
    }
   ],
   "source": [
    "%%timeit\n",
    "(func_one,10000)"
   ]
  },
  {
   "cell_type": "code",
   "execution_count": 74,
   "metadata": {},
   "outputs": [
    {
     "name": "stdout",
     "output_type": "stream",
     "text": [
      "39.9 ns ± 0.0173 ns per loop (mean ± std. dev. of 7 runs, 10000000 loops each)\n"
     ]
    }
   ],
   "source": [
    "%%timeit\n",
    "(func_two,10000)"
   ]
  },
  {
   "cell_type": "code",
   "execution_count": 76,
   "metadata": {},
   "outputs": [],
   "source": [
    "#f = open('fileone.txt','w+')\n",
    "f.write('One File')\n",
    "f.close()"
   ]
  },
  {
   "cell_type": "code",
   "execution_count": 77,
   "metadata": {},
   "outputs": [],
   "source": [
    "f = open('filetwo.txt','w+')\n",
    "f.write('two File')\n",
    "f.close()"
   ]
  },
  {
   "cell_type": "code",
   "execution_count": 78,
   "metadata": {},
   "outputs": [],
   "source": [
    "import zipfile"
   ]
  },
  {
   "cell_type": "code",
   "execution_count": 79,
   "metadata": {},
   "outputs": [],
   "source": [
    "comp_file = zipfile.ZipFile('comp_file.zip','w')"
   ]
  },
  {
   "cell_type": "code",
   "execution_count": 80,
   "metadata": {},
   "outputs": [],
   "source": [
    "comp_file.write('fileone.txt',compress_type=zipfile.ZIP_DEFLATED)"
   ]
  },
  {
   "cell_type": "code",
   "execution_count": 81,
   "metadata": {},
   "outputs": [],
   "source": [
    "comp_file.write('filetwo.txt',compress_type=zipfile.ZIP_DEFLATED)"
   ]
  },
  {
   "cell_type": "code",
   "execution_count": 82,
   "metadata": {},
   "outputs": [
    {
     "ename": "BadZipFile",
     "evalue": "File is not a zip file",
     "output_type": "error",
     "traceback": [
      "\u001b[0;31m---------------------------------------------------------------------------\u001b[0m",
      "\u001b[0;31mBadZipFile\u001b[0m                                Traceback (most recent call last)",
      "\u001b[0;32m/var/folders/cq/123dqjh510j7m81tp459cj640000gn/T/ipykernel_33424/293644707.py\u001b[0m in \u001b[0;36m<module>\u001b[0;34m\u001b[0m\n\u001b[0;32m----> 1\u001b[0;31m \u001b[0mzip_obj\u001b[0m \u001b[0;34m=\u001b[0m \u001b[0mzipfile\u001b[0m\u001b[0;34m.\u001b[0m\u001b[0mZipFile\u001b[0m\u001b[0;34m(\u001b[0m\u001b[0;34m'comp_file.zip'\u001b[0m\u001b[0;34m,\u001b[0m\u001b[0;34m'r'\u001b[0m\u001b[0;34m)\u001b[0m\u001b[0;34m\u001b[0m\u001b[0;34m\u001b[0m\u001b[0m\n\u001b[0m",
      "\u001b[0;32m~/opt/anaconda3/lib/python3.9/zipfile.py\u001b[0m in \u001b[0;36m__init__\u001b[0;34m(self, file, mode, compression, allowZip64, compresslevel, strict_timestamps)\u001b[0m\n\u001b[1;32m   1255\u001b[0m         \u001b[0;32mtry\u001b[0m\u001b[0;34m:\u001b[0m\u001b[0;34m\u001b[0m\u001b[0;34m\u001b[0m\u001b[0m\n\u001b[1;32m   1256\u001b[0m             \u001b[0;32mif\u001b[0m \u001b[0mmode\u001b[0m \u001b[0;34m==\u001b[0m \u001b[0;34m'r'\u001b[0m\u001b[0;34m:\u001b[0m\u001b[0;34m\u001b[0m\u001b[0;34m\u001b[0m\u001b[0m\n\u001b[0;32m-> 1257\u001b[0;31m                 \u001b[0mself\u001b[0m\u001b[0;34m.\u001b[0m\u001b[0m_RealGetContents\u001b[0m\u001b[0;34m(\u001b[0m\u001b[0;34m)\u001b[0m\u001b[0;34m\u001b[0m\u001b[0;34m\u001b[0m\u001b[0m\n\u001b[0m\u001b[1;32m   1258\u001b[0m             \u001b[0;32melif\u001b[0m \u001b[0mmode\u001b[0m \u001b[0;32min\u001b[0m \u001b[0;34m(\u001b[0m\u001b[0;34m'w'\u001b[0m\u001b[0;34m,\u001b[0m \u001b[0;34m'x'\u001b[0m\u001b[0;34m)\u001b[0m\u001b[0;34m:\u001b[0m\u001b[0;34m\u001b[0m\u001b[0;34m\u001b[0m\u001b[0m\n\u001b[1;32m   1259\u001b[0m                 \u001b[0;31m# set the modified flag so central directory gets written\u001b[0m\u001b[0;34m\u001b[0m\u001b[0;34m\u001b[0m\u001b[0m\n",
      "\u001b[0;32m~/opt/anaconda3/lib/python3.9/zipfile.py\u001b[0m in \u001b[0;36m_RealGetContents\u001b[0;34m(self)\u001b[0m\n\u001b[1;32m   1322\u001b[0m             \u001b[0;32mraise\u001b[0m \u001b[0mBadZipFile\u001b[0m\u001b[0;34m(\u001b[0m\u001b[0;34m\"File is not a zip file\"\u001b[0m\u001b[0;34m)\u001b[0m\u001b[0;34m\u001b[0m\u001b[0;34m\u001b[0m\u001b[0m\n\u001b[1;32m   1323\u001b[0m         \u001b[0;32mif\u001b[0m \u001b[0;32mnot\u001b[0m \u001b[0mendrec\u001b[0m\u001b[0;34m:\u001b[0m\u001b[0;34m\u001b[0m\u001b[0;34m\u001b[0m\u001b[0m\n\u001b[0;32m-> 1324\u001b[0;31m             \u001b[0;32mraise\u001b[0m \u001b[0mBadZipFile\u001b[0m\u001b[0;34m(\u001b[0m\u001b[0;34m\"File is not a zip file\"\u001b[0m\u001b[0;34m)\u001b[0m\u001b[0;34m\u001b[0m\u001b[0;34m\u001b[0m\u001b[0m\n\u001b[0m\u001b[1;32m   1325\u001b[0m         \u001b[0;32mif\u001b[0m \u001b[0mself\u001b[0m\u001b[0;34m.\u001b[0m\u001b[0mdebug\u001b[0m \u001b[0;34m>\u001b[0m \u001b[0;36m1\u001b[0m\u001b[0;34m:\u001b[0m\u001b[0;34m\u001b[0m\u001b[0;34m\u001b[0m\u001b[0m\n\u001b[1;32m   1326\u001b[0m             \u001b[0mprint\u001b[0m\u001b[0;34m(\u001b[0m\u001b[0mendrec\u001b[0m\u001b[0;34m)\u001b[0m\u001b[0;34m\u001b[0m\u001b[0;34m\u001b[0m\u001b[0m\n",
      "\u001b[0;31mBadZipFile\u001b[0m: File is not a zip file"
     ]
    }
   ],
   "source": [
    "zip_obj = zipfile.ZipFile('comp_file.zip','r')"
   ]
  },
  {
   "cell_type": "code",
   "execution_count": 83,
   "metadata": {},
   "outputs": [],
   "source": [
    "import shutil"
   ]
  },
  {
   "cell_type": "code",
   "execution_count": 84,
   "metadata": {},
   "outputs": [
    {
     "data": {
      "text/plain": [
       "'/Users/vladavramenko/Documents/Python/Complete-Python-3-Bootcamp'"
      ]
     },
     "execution_count": 84,
     "metadata": {},
     "output_type": "execute_result"
    }
   ],
   "source": [
    "pwd"
   ]
  },
  {
   "cell_type": "code",
   "execution_count": 91,
   "metadata": {},
   "outputs": [],
   "source": [
    "dir_to_arch = '/Users/vladavramenko/Documents/Python/Complete-Python-3-Bootcamp/Test_folder'"
   ]
  },
  {
   "cell_type": "code",
   "execution_count": 92,
   "metadata": {},
   "outputs": [
    {
     "data": {
      "text/plain": [
       "'/Users/vladavramenko/Documents/Python/Complete-Python-3-Bootcamp/test_arch.zip'"
      ]
     },
     "execution_count": 92,
     "metadata": {},
     "output_type": "execute_result"
    }
   ],
   "source": [
    "shutil.make_archive('test_arch','zip',dir_to_arch)"
   ]
  },
  {
   "cell_type": "code",
   "execution_count": 1,
   "metadata": {},
   "outputs": [
    {
     "data": {
      "text/plain": [
       "'/Users/vladavramenko/Documents/Python/Complete-Python-3-Bootcamp/12-Advanced Python Modules/08-Advanced-Python-Module-Exercise'"
      ]
     },
     "execution_count": 1,
     "metadata": {},
     "output_type": "execute_result"
    }
   ],
   "source": [
    "pwd"
   ]
  },
  {
   "cell_type": "code",
   "execution_count": 2,
   "metadata": {},
   "outputs": [
    {
     "ename": "NameError",
     "evalue": "name 'shutil' is not defined",
     "output_type": "error",
     "traceback": [
      "\u001b[0;31m---------------------------------------------------------------------------\u001b[0m",
      "\u001b[0;31mNameError\u001b[0m                                 Traceback (most recent call last)",
      "\u001b[0;32m/var/folders/cq/123dqjh510j7m81tp459cj640000gn/T/ipykernel_51344/936125947.py\u001b[0m in \u001b[0;36m<module>\u001b[0;34m\u001b[0m\n\u001b[0;32m----> 1\u001b[0;31m \u001b[0mshutil\u001b[0m\u001b[0;34m.\u001b[0m\u001b[0munpack_archive\u001b[0m\u001b[0;34m(\u001b[0m\u001b[0;34m'unziped_instruction'\u001b[0m\u001b[0;34m,\u001b[0m\u001b[0;32mNone\u001b[0m\u001b[0;34m,\u001b[0m\u001b[0;32mNone\u001b[0m\u001b[0;34m)\u001b[0m\u001b[0;34m\u001b[0m\u001b[0;34m\u001b[0m\u001b[0m\n\u001b[0m",
      "\u001b[0;31mNameError\u001b[0m: name 'shutil' is not defined"
     ]
    }
   ],
   "source": [
    "shutil.unpack_archive('unziped_instruction',None,None)"
   ]
  },
  {
   "cell_type": "code",
   "execution_count": 3,
   "metadata": {},
   "outputs": [],
   "source": [
    "import shutil"
   ]
  },
  {
   "cell_type": "code",
   "execution_count": 7,
   "metadata": {},
   "outputs": [],
   "source": [
    "shutil.unpack_archive('unzip_me_for_instructions.zip',None,'zip')"
   ]
  },
  {
   "cell_type": "code",
   "execution_count": null,
   "metadata": {},
   "outputs": [],
   "source": []
  }
 ],
 "metadata": {
  "kernelspec": {
   "display_name": "Python 3",
   "language": "python",
   "name": "python3"
  },
  "language_info": {
   "codemirror_mode": {
    "name": "ipython",
    "version": 3
   },
   "file_extension": ".py",
   "mimetype": "text/x-python",
   "name": "python",
   "nbconvert_exporter": "python",
   "pygments_lexer": "ipython3",
   "version": "3.9.7"
  }
 },
 "nbformat": 4,
 "nbformat_minor": 2
}
