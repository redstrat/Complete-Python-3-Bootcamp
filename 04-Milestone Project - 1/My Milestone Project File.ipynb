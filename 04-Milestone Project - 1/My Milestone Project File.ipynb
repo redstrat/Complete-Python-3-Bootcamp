{
 "cells": [
  {
   "cell_type": "code",
   "execution_count": 14,
   "metadata": {},
   "outputs": [],
   "source": [
    "## DISPLAY BOARD\n",
    "\n",
    "def display_board(board):\n",
    "    print('['+board[7]+']'+'['+board[8]+']'+'['+board[9]+']')\n",
    "    print('['+board[4]+']'+'['+board[5]+']'+'['+board[6]+']')\n",
    "    print('['+board[1]+']'+'['+board[2]+']'+'['+board[3]+']')\n",
    "   "
   ]
  },
  {
   "cell_type": "code",
   "execution_count": 40,
   "metadata": {},
   "outputs": [
    {
     "name": "stdout",
     "output_type": "stream",
     "text": [
      "[x][o][o]\n",
      "[x][x][o]\n",
      "[x][o][o]\n"
     ]
    }
   ],
   "source": [
    "myboard=['#','x','o','o','x','x','o','x','o','o']\n",
    "display_board(myboard)"
   ]
  },
  {
   "cell_type": "code",
   "execution_count": 67,
   "metadata": {},
   "outputs": [],
   "source": [
    "## GAME ON\n",
    "\n",
    "def gameon():\n",
    "    acceptable_resp = False\n",
    "    gameon = False\n",
    "\n",
    "    while not acceptable_resp:\n",
    "        responce=input('Would you like to play a game (Y/N)')\n",
    "\n",
    "        if responce == 'Y':\n",
    "            acceptable_resp=True\n",
    "            gameon = True\n",
    "        elif responce == 'N':\n",
    "            break\n",
    "\n",
    "#gameon = True\n",
    "    \n"
   ]
  },
  {
   "cell_type": "code",
   "execution_count": 69,
   "metadata": {},
   "outputs": [],
   "source": [
    "gameon()"
   ]
  },
  {
   "cell_type": "code",
   "execution_count": 57,
   "metadata": {},
   "outputs": [
    {
     "name": "stdout",
     "output_type": "stream",
     "text": [
      "[x][o][o]\n",
      "[x][x][o]\n",
      "[x][o][o]\n"
     ]
    }
   ],
   "source": [
    "display_board(myboard)"
   ]
  },
  {
   "cell_type": "code",
   "execution_count": 64,
   "metadata": {},
   "outputs": [
    {
     "name": "stdout",
     "output_type": "stream",
     "text": [
      "[][][]\n",
      "[][][]\n",
      "[][][]\n"
     ]
    }
   ],
   "source": [
    "# PLAY THE GAME\n",
    "Print('Would you like to play a game? (Y,N)')\n",
    "\n",
    "while gameon:\n",
    "    myboard=['','','','','','','','','','']\n",
    "\n",
    "    display_board(myboard)\n",
    "    break\n",
    "\n"
   ]
  },
  {
   "cell_type": "code",
   "execution_count": null,
   "metadata": {},
   "outputs": [],
   "source": []
  }
 ],
 "metadata": {
  "kernelspec": {
   "display_name": "Python 3",
   "language": "python",
   "name": "python3"
  },
  "language_info": {
   "codemirror_mode": {
    "name": "ipython",
    "version": 3
   },
   "file_extension": ".py",
   "mimetype": "text/x-python",
   "name": "python",
   "nbconvert_exporter": "python",
   "pygments_lexer": "ipython3",
   "version": "3.9.7"
  }
 },
 "nbformat": 4,
 "nbformat_minor": 2
}
