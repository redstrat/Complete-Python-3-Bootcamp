{
 "cells": [
  {
   "cell_type": "markdown",
   "metadata": {},
   "source": [
    "<b> Fib Seq </b>"
   ]
  },
  {
   "cell_type": "code",
   "execution_count": 7,
   "metadata": {},
   "outputs": [],
   "source": [
    "def fibseq(n):\n",
    "    fiblist = [0,1]\n",
    "    while len(fiblist) < n:\n",
    "        fiblist.append(fiblist[-1]+fiblist[-2])\n",
    "    return fiblist"
   ]
  },
  {
   "cell_type": "code",
   "execution_count": 8,
   "metadata": {},
   "outputs": [
    {
     "data": {
      "text/plain": [
       "[0, 1, 1, 2, 3, 5, 8, 13, 21, 34, 55, 89, 144, 233, 377]"
      ]
     },
     "execution_count": 8,
     "metadata": {},
     "output_type": "execute_result"
    }
   ],
   "source": [
    "fibseq(15)"
   ]
  },
  {
   "cell_type": "markdown",
   "metadata": {},
   "source": [
    "<b>PI</b>"
   ]
  },
  {
   "cell_type": "code",
   "execution_count": 10,
   "metadata": {},
   "outputs": [
    {
     "name": "stdout",
     "output_type": "stream",
     "text": [
      "3.141592653589793\n"
     ]
    }
   ],
   "source": [
    "from math import pi\n",
    "print(pi)"
   ]
  },
  {
   "cell_type": "markdown",
   "metadata": {},
   "source": [
    "<b>Primes</b>"
   ]
  },
  {
   "cell_type": "code",
   "execution_count": 3,
   "metadata": {},
   "outputs": [],
   "source": [
    "def nextprime():\n",
    "    num = 0\n",
    "    inc = 1\n",
    "    go = input('Would you like next prime, Y or N')\n",
    "    while go == 'Y':\n",
    "        num =+ 1\n",
    "        if num % 2 == 0:\n",
    "            print(num)\n"
   ]
  },
  {
   "cell_type": "code",
   "execution_count": 4,
   "metadata": {},
   "outputs": [
    {
     "ename": "KeyboardInterrupt",
     "evalue": "",
     "output_type": "error",
     "traceback": [
      "\u001b[0;31m---------------------------------------------------------------------------\u001b[0m",
      "\u001b[0;31mKeyboardInterrupt\u001b[0m                         Traceback (most recent call last)",
      "\u001b[0;32m/var/folders/cq/123dqjh510j7m81tp459cj640000gn/T/ipykernel_29608/1018395829.py\u001b[0m in \u001b[0;36m<module>\u001b[0;34m\u001b[0m\n\u001b[0;32m----> 1\u001b[0;31m \u001b[0mnextprime\u001b[0m\u001b[0;34m(\u001b[0m\u001b[0;34m)\u001b[0m\u001b[0;34m\u001b[0m\u001b[0;34m\u001b[0m\u001b[0m\n\u001b[0m",
      "\u001b[0;32m/var/folders/cq/123dqjh510j7m81tp459cj640000gn/T/ipykernel_29608/2449200216.py\u001b[0m in \u001b[0;36mnextprime\u001b[0;34m()\u001b[0m\n\u001b[1;32m      5\u001b[0m     \u001b[0;32mwhile\u001b[0m \u001b[0mgo\u001b[0m \u001b[0;34m==\u001b[0m \u001b[0;34m'Y'\u001b[0m\u001b[0;34m:\u001b[0m\u001b[0;34m\u001b[0m\u001b[0;34m\u001b[0m\u001b[0m\n\u001b[1;32m      6\u001b[0m         \u001b[0mnum\u001b[0m \u001b[0;34m=\u001b[0m\u001b[0;34m+\u001b[0m \u001b[0;36m1\u001b[0m\u001b[0;34m\u001b[0m\u001b[0;34m\u001b[0m\u001b[0m\n\u001b[0;32m----> 7\u001b[0;31m         \u001b[0;32mif\u001b[0m \u001b[0mnum\u001b[0m \u001b[0;34m%\u001b[0m \u001b[0;36m2\u001b[0m \u001b[0;34m==\u001b[0m \u001b[0;36m0\u001b[0m\u001b[0;34m:\u001b[0m\u001b[0;34m\u001b[0m\u001b[0;34m\u001b[0m\u001b[0m\n\u001b[0m\u001b[1;32m      8\u001b[0m             \u001b[0mprint\u001b[0m\u001b[0;34m(\u001b[0m\u001b[0mnum\u001b[0m\u001b[0;34m)\u001b[0m\u001b[0;34m\u001b[0m\u001b[0;34m\u001b[0m\u001b[0m\n",
      "\u001b[0;31mKeyboardInterrupt\u001b[0m: "
     ]
    }
   ],
   "source": [
    "nextprime()"
   ]
  },
  {
   "cell_type": "code",
   "execution_count": null,
   "metadata": {},
   "outputs": [],
   "source": [
    "####### Change return ######\n",
    "def change_func(cost,payment):\n",
    "    #cost, payment = int(input(\"Enter cost and payment (cost,payment/cents): \"))\n",
    "    cost *=100\n",
    "    payment *=100\n",
    "    denom={'quart':25,'dim':10,'nick':5,'pen':1}\n",
    "    i=0\n",
    "    if payment-cost > 0:\n",
    "        initial_change = payment-cost\n",
    "        change = payment-cost\n",
    "\n",
    "        while i in range(len(denom)):\n",
    "\n",
    "            quarters =int(change/denom[1])\n",
    "            i+=1\n",
    "            change -=quarters*25\n",
    "            dimes =int(change/10)\n",
    "            change -=dimes*10\n",
    "            nickels = int(change/5)\n",
    "            change -=nickels*5\n",
    "            pennies = int(change/1)\n",
    "            return f'Your change is ${initial_change/100}. {quarters} quarters,{dimes} dimes, {nickels} nickels, {pennies} pennies'\n",
    "    else:\n",
    "        print('Not enough money')"
   ]
  },
  {
   "cell_type": "code",
   "execution_count": 51,
   "metadata": {},
   "outputs": [
    {
     "data": {
      "text/plain": [
       "'Your change is $0.63. 2 quarters,1 dimes, 0 nickels, 3 pennies'"
      ]
     },
     "execution_count": 51,
     "metadata": {},
     "output_type": "execute_result"
    }
   ],
   "source": [
    "change_func(2.37,3)"
   ]
  },
  {
   "cell_type": "code",
   "execution_count": 44,
   "metadata": {},
   "outputs": [],
   "source": [
    "'''\n",
    "Created on 13/07/2013\n",
    "\n",
    "@author: luke\n",
    "'''\n",
    "import math\n",
    "\n",
    "def greedy_money_exchange(denom,amount):\n",
    "    i   = 0\n",
    "    used= [0]*len(denom)\n",
    "    while(amount>0):# go until all money gone\n",
    "        # get num of that denom to use, always round down\n",
    "        num     = math.floor(amount/denom[i]) \n",
    "        used[i] = num # say we've used it\n",
    "        amount  = amount-num*denom[i] # set new amount\n",
    "        i       = i + 1 # go to next denom\n",
    "    return used"
   ]
  },
  {
   "cell_type": "code",
   "execution_count": 45,
   "metadata": {},
   "outputs": [
    {
     "data": {
      "text/plain": [
       "[9, 1, 0, 2]"
      ]
     },
     "execution_count": 45,
     "metadata": {},
     "output_type": "execute_result"
    }
   ],
   "source": [
    "greedy_money_exchange([25,10,5,1],237)"
   ]
  },
  {
   "cell_type": "code",
   "execution_count": null,
   "metadata": {},
   "outputs": [],
   "source": []
  }
 ],
 "metadata": {
  "kernelspec": {
   "display_name": "Python 3",
   "language": "python",
   "name": "python3"
  },
  "language_info": {
   "codemirror_mode": {
    "name": "ipython",
    "version": 3
   },
   "file_extension": ".py",
   "mimetype": "text/x-python",
   "name": "python",
   "nbconvert_exporter": "python",
   "pygments_lexer": "ipython3",
   "version": "3.9.7"
  }
 },
 "nbformat": 4,
 "nbformat_minor": 2
}
