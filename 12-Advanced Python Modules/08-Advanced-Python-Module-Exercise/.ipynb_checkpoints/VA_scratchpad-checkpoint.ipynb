{
 "cells": [
  {
   "cell_type": "code",
   "execution_count": 88,
   "metadata": {},
   "outputs": [],
   "source": [
    "from random import shuffle\n",
    "\n",
    "suits = ('Hearts', 'Diamonds', 'Spades', 'Clubs')\n",
    "ranks = ('Two', 'Three', 'Four', 'Five', 'Six', 'Seven', 'Eight', 'Nine', 'Ten', 'Jack', 'Queen', 'King', 'Ace')\n",
    "values = {'Two':2, 'Three':3, 'Four':4, 'Five':5, 'Six':6, 'Seven':7, 'Eight':8, \n",
    "            'Nine':9, 'Ten':10, 'Jack':11, 'Queen':12, 'King':13, 'Ace':14}"
   ]
  },
  {
   "cell_type": "code",
   "execution_count": 89,
   "metadata": {},
   "outputs": [],
   "source": [
    "class Card:\n",
    "    def __init__(self,suit,rank):\n",
    "\n",
    "        self.suit = suit\n",
    "        self.rank = rank\n",
    "        self.value = values[rank]\n",
    "\n",
    "    def __str__(self):\n",
    "\n",
    "        return self.rank+' of '+self.suit\n",
    "\n"
   ]
  },
  {
   "cell_type": "code",
   "execution_count": 3,
   "metadata": {},
   "outputs": [],
   "source": [
    "TwoOfHearts = Card(suits[0],ranks[0])"
   ]
  },
  {
   "cell_type": "code",
   "execution_count": 4,
   "metadata": {},
   "outputs": [
    {
     "name": "stdout",
     "output_type": "stream",
     "text": [
      "Two of Hearts\n"
     ]
    }
   ],
   "source": [
    "print(TwoOfHearts)"
   ]
  },
  {
   "cell_type": "code",
   "execution_count": 5,
   "metadata": {},
   "outputs": [
    {
     "name": "stdout",
     "output_type": "stream",
     "text": [
      "2\n"
     ]
    }
   ],
   "source": [
    "print(TwoOfHearts.value)"
   ]
  },
  {
   "cell_type": "code",
   "execution_count": 6,
   "metadata": {},
   "outputs": [
    {
     "data": {
      "text/plain": [
       "2"
      ]
     },
     "execution_count": 6,
     "metadata": {},
     "output_type": "execute_result"
    }
   ],
   "source": [
    "TwoOfHearts.value"
   ]
  },
  {
   "cell_type": "code",
   "execution_count": 7,
   "metadata": {},
   "outputs": [
    {
     "data": {
      "text/plain": [
       "'Two'"
      ]
     },
     "execution_count": 7,
     "metadata": {},
     "output_type": "execute_result"
    }
   ],
   "source": [
    "TwoOfHearts.rank"
   ]
  },
  {
   "cell_type": "code",
   "execution_count": 8,
   "metadata": {},
   "outputs": [
    {
     "data": {
      "text/plain": [
       "'Hearts'"
      ]
     },
     "execution_count": 8,
     "metadata": {},
     "output_type": "execute_result"
    }
   ],
   "source": [
    "TwoOfHearts.suit"
   ]
  },
  {
   "cell_type": "code",
   "execution_count": 90,
   "metadata": {},
   "outputs": [],
   "source": [
    "class Deck:\n",
    "    def __init__(self):\n",
    "        \n",
    "        self.all_cards = []\n",
    "\n",
    "        for suit in suits:\n",
    "            for rank in ranks:\n",
    "\n",
    "                created_card = Card(suit,rank)\n",
    "\n",
    "                self.all_cards.append(created_card)\n",
    "\n",
    "    def shuffle(self):\n",
    "\n",
    "        shuffle(self.all_cards)\n",
    "\n",
    "    def deal_one(self):\n",
    "\n",
    "        return self.all_cards.pop()"
   ]
  },
  {
   "cell_type": "code",
   "execution_count": 91,
   "metadata": {},
   "outputs": [],
   "source": [
    "new_deck = Deck()"
   ]
  },
  {
   "cell_type": "code",
   "execution_count": 94,
   "metadata": {},
   "outputs": [],
   "source": [
    "new_deck.shuffle()"
   ]
  },
  {
   "cell_type": "code",
   "execution_count": 97,
   "metadata": {},
   "outputs": [
    {
     "name": "stdout",
     "output_type": "stream",
     "text": [
      "[<__main__.Card object at 0x7fcef8897820>, <__main__.Card object at 0x7fcef8897bb0>, <__main__.Card object at 0x7fcef8897730>, <__main__.Card object at 0x7fcef8897310>, <__main__.Card object at 0x7fcef88977f0>, <__main__.Card object at 0x7fceb82a2b80>, <__main__.Card object at 0x7fcef8897070>, <__main__.Card object at 0x7fcef88978e0>, <__main__.Card object at 0x7fcef8897be0>, <__main__.Card object at 0x7fcef8897760>, <__main__.Card object at 0x7fcef8897670>, <__main__.Card object at 0x7fcef88978b0>, <__main__.Card object at 0x7fcef8897d00>, <__main__.Card object at 0x7fcef88973a0>, <__main__.Card object at 0x7fcef88977c0>, <__main__.Card object at 0x7fcef88970a0>, <__main__.Card object at 0x7fceb82a24f0>, <__main__.Card object at 0x7fcef88974c0>, <__main__.Card object at 0x7fcef88971f0>, <__main__.Card object at 0x7fceb82fceb0>, <__main__.Card object at 0x7fceb82a2730>, <__main__.Card object at 0x7fcef8897580>, <__main__.Card object at 0x7fcef8897f40>, <__main__.Card object at 0x7fcef8897e80>, <__main__.Card object at 0x7fcef8897700>, <__main__.Card object at 0x7fceb82fc910>, <__main__.Card object at 0x7fcef8897cd0>, <__main__.Card object at 0x7fceb82a2790>, <__main__.Card object at 0x7fcef8897d90>, <__main__.Card object at 0x7fcef8897d60>, <__main__.Card object at 0x7fceb82fca60>, <__main__.Card object at 0x7fcef8897550>, <__main__.Card object at 0x7fcef8897940>, <__main__.Card object at 0x7fceb82a21f0>, <__main__.Card object at 0x7fcef8897e20>, <__main__.Card object at 0x7fcef88979a0>, <__main__.Card object at 0x7fceb82a22b0>, <__main__.Card object at 0x7fcef8897c70>, <__main__.Card object at 0x7fcef8897340>, <__main__.Card object at 0x7fcef88970d0>, <__main__.Card object at 0x7fcef8897430>, <__main__.Card object at 0x7fceb82a2dc0>, <__main__.Card object at 0x7fcef8897970>, <__main__.Card object at 0x7fcef8897df0>, <__main__.Card object at 0x7fcef8897ee0>, <__main__.Card object at 0x7fcef88976d0>, <__main__.Card object at 0x7fcef88972b0>, <__main__.Card object at 0x7fceb82a2820>, <__main__.Card object at 0x7fcef8897400>, <__main__.Card object at 0x7fceb82a2550>, <__main__.Card object at 0x7fcef8897610>, <__main__.Card object at 0x7fceb82a2430>]\n",
      "King of Spades\n",
      "Four of Spades\n",
      "Jack of Spades\n",
      "Eight of Hearts\n",
      "Two of Clubs\n",
      "Eight of Clubs\n",
      "Ten of Diamonds\n",
      "Two of Spades\n",
      "Five of Diamonds\n",
      "Queen of Hearts\n",
      "Six of Hearts\n",
      "Three of Clubs\n",
      "Six of Diamonds\n",
      "Nine of Diamonds\n",
      "Four of Clubs\n",
      "Six of Spades\n",
      "Jack of Clubs\n",
      "Five of Spades\n",
      "Ace of Diamonds\n",
      "Two of Hearts\n",
      "Queen of Clubs\n",
      "Jack of Diamonds\n",
      "Eight of Diamonds\n",
      "Queen of Spades\n",
      "Ace of Spades\n",
      "Three of Hearts\n",
      "Queen of Diamonds\n",
      "Ten of Clubs\n",
      "Three of Spades\n",
      "Seven of Diamonds\n",
      "Four of Hearts\n",
      "King of Diamonds\n",
      "Eight of Spades\n",
      "Ace of Clubs\n",
      "Nine of Hearts\n",
      "Three of Diamonds\n",
      "Seven of Clubs\n",
      "Ten of Spades\n",
      "Nine of Spades\n",
      "Ace of Hearts\n",
      "Seven of Hearts\n",
      "Nine of Clubs\n",
      "Two of Diamonds\n",
      "Four of Diamonds\n",
      "Ten of Hearts\n",
      "Five of Hearts\n",
      "Jack of Hearts\n",
      "Five of Clubs\n",
      "Seven of Spades\n",
      "Six of Clubs\n",
      "King of Hearts\n",
      "King of Clubs\n"
     ]
    }
   ],
   "source": [
    "print(new_deck.all_cards)\n",
    "\n",
    "for card_object in new_deck.all_cards:\n",
    "    print(card_object)"
   ]
  },
  {
   "cell_type": "code",
   "execution_count": 44,
   "metadata": {},
   "outputs": [],
   "source": [
    "shuffle(new_deck.all_cards)"
   ]
  },
  {
   "cell_type": "code",
   "execution_count": 46,
   "metadata": {},
   "outputs": [],
   "source": [
    "mycard = new_deck.deal_one()"
   ]
  },
  {
   "cell_type": "code",
   "execution_count": 47,
   "metadata": {},
   "outputs": [
    {
     "name": "stdout",
     "output_type": "stream",
     "text": [
      "Three of Hearts\n"
     ]
    }
   ],
   "source": [
    "print(mycard)"
   ]
  },
  {
   "cell_type": "code",
   "execution_count": 50,
   "metadata": {},
   "outputs": [
    {
     "data": {
      "text/plain": [
       "51"
      ]
     },
     "execution_count": 50,
     "metadata": {},
     "output_type": "execute_result"
    }
   ],
   "source": [
    "len(new_deck.all_cards)"
   ]
  },
  {
   "cell_type": "code",
   "execution_count": 62,
   "metadata": {},
   "outputs": [],
   "source": [
    "class Player:\n",
    "    def __init__(self,name):\n",
    "\n",
    "        self.name = name\n",
    "        self.all_cards = []\n",
    "\n",
    "    def remove_one(self):\n",
    "        return self.all_cards.pop(0)\n",
    "\n",
    "    def add_cards(self,new_cards):\n",
    "        if type(new_cards) == type([]):\n",
    "            self.all_cards.extend(new_cards)\n",
    "        else:\n",
    "            self.all_cards.append(new_cards)\n",
    "    \n",
    "    def __str__(self):\n",
    "        return f'Player {self.name} has {len(self.all_cards)} cards'"
   ]
  },
  {
   "cell_type": "code",
   "execution_count": 105,
   "metadata": {},
   "outputs": [],
   "source": [
    "new_player = Player('Vlad')"
   ]
  },
  {
   "cell_type": "code",
   "execution_count": 106,
   "metadata": {},
   "outputs": [
    {
     "name": "stdout",
     "output_type": "stream",
     "text": [
      "Player Vlad has 0 cards\n"
     ]
    }
   ],
   "source": [
    "print(new_player)"
   ]
  },
  {
   "cell_type": "code",
   "execution_count": 109,
   "metadata": {},
   "outputs": [
    {
     "name": "stdout",
     "output_type": "stream",
     "text": [
      "Three of Hearts\n"
     ]
    }
   ],
   "source": [
    "\n",
    "print(new_player.all_cards[0])"
   ]
  },
  {
   "cell_type": "code",
   "execution_count": 108,
   "metadata": {},
   "outputs": [],
   "source": [
    "new_player.add_cards([mycard,mycard,mycard])"
   ]
  },
  {
   "cell_type": "code",
   "execution_count": 79,
   "metadata": {},
   "outputs": [
    {
     "data": {
      "text/plain": [
       "<__main__.Card at 0x7fda606e5c40>"
      ]
     },
     "execution_count": 79,
     "metadata": {},
     "output_type": "execute_result"
    }
   ],
   "source": [
    "new_player.remove_one()"
   ]
  },
  {
   "cell_type": "code",
   "execution_count": 85,
   "metadata": {},
   "outputs": [],
   "source": [
    "#Game setup\n",
    "\n",
    "player_1 = Player('Vlad')\n",
    "player_2 = Player('Nick')\n",
    "\n",
    "new_deck = Deck()\n",
    "new_deck.shuffle()\n",
    "\n",
    "for i in range(26):\n",
    "    player_1.add_cards(new_deck.deal_one())\n",
    "    player_2.add_cards(new_deck.deal_one())\n",
    "\n",
    "    "
   ]
  },
  {
   "cell_type": "code",
   "execution_count": 86,
   "metadata": {},
   "outputs": [],
   "source": [
    "game_on = True"
   ]
  },
  {
   "cell_type": "code",
   "execution_count": 87,
   "metadata": {},
   "outputs": [
    {
     "name": "stdout",
     "output_type": "stream",
     "text": [
      "Round 1\n",
      "Round 2\n",
      "Round 3\n",
      "Round 4\n",
      "Round 5\n",
      "Round 6\n",
      "Round 7\n",
      "Round 8\n",
      "Round 9\n",
      "Round 10\n",
      "Round 11\n",
      "Round 12\n",
      "Round 13\n",
      "Round 14\n",
      "Round 15\n",
      "Round 16\n",
      "Round 17\n",
      "Round 18\n",
      "Round 19\n",
      "Round 20\n",
      "Round 21\n",
      "Round 22\n",
      "Round 23\n",
      "Round 24\n",
      "Round 25\n",
      "Round 26\n",
      "Round 27\n",
      "Round 28\n",
      "Round 29\n",
      "WAR\n",
      "Round 30\n",
      "Round 31\n",
      "Round 32\n",
      "Round 33\n",
      "Round 34\n",
      "Round 35\n",
      "Round 36\n",
      "Round 37\n",
      "Round 38\n",
      "Round 39\n",
      "Round 40\n",
      "Round 41\n",
      "Round 42\n",
      "Round 43\n",
      "Round 44\n",
      "Round 45\n",
      "Round 46\n",
      "Round 47\n",
      "Round 48\n",
      "Round 49\n",
      "Round 50\n",
      "Round 51\n",
      "Round 52\n",
      "Round 53\n",
      "Round 54\n",
      "Round 55\n",
      "Round 56\n",
      "Round 57\n",
      "Round 58\n",
      "Round 59\n",
      "Round 60\n",
      "Round 61\n",
      "Round 62\n",
      "Round 63\n",
      "Round 64\n",
      "Round 65\n",
      "Round 66\n",
      "Round 67\n",
      "Round 68\n",
      "Round 69\n",
      "Round 70\n",
      "Round 71\n",
      "Round 72\n",
      "Round 73\n",
      "Round 74\n",
      "Round 75\n",
      "Round 76\n",
      "Round 77\n",
      "Round 78\n",
      "Round 79\n",
      "Round 80\n",
      "Round 81\n",
      "Round 82\n",
      "Round 83\n",
      "WAR\n",
      "Round 84\n",
      "Round 85\n",
      "Round 86\n",
      "WAR\n",
      "Round 87\n",
      "Round 88\n",
      "Round 89\n",
      "Round 90\n",
      "Round 91\n",
      "Round 92\n",
      "Round 93\n",
      "Round 94\n",
      "Round 95\n",
      "Round 96\n",
      "Round 97\n",
      "Round 98\n",
      "Round 99\n",
      "Round 100\n",
      "Round 101\n",
      "Round 102\n",
      "Round 103\n",
      "Round 104\n",
      "Round 105\n",
      "Round 106\n",
      "Round 107\n",
      "Round 108\n",
      "Round 109\n",
      "Round 110\n",
      "Round 111\n",
      "Round 112\n",
      "Round 113\n",
      "Round 114\n",
      "Round 115\n",
      "Round 116\n",
      "Round 117\n",
      "WAR\n",
      "Player 2 not able to delare war. Player 1 wins!\n"
     ]
    }
   ],
   "source": [
    "round_num = 0\n",
    "\n",
    "while game_on:\n",
    "    round_num += 1\n",
    "    print(f'Round {round_num}')\n",
    "\n",
    "    if len(player_1.all_cards) == 0:\n",
    "        print('Player 1 is out of cards. Player 2 won!')\n",
    "        game_on = False\n",
    "        break\n",
    "\n",
    "    \n",
    "    if len(player_2.all_cards) == 0:\n",
    "        print('Player 2 is out of cards. Player 1 won!')\n",
    "        game_on = False\n",
    "        break\n",
    "\n",
    "#Start a new round\n",
    "\n",
    "    player_1_cards = []\n",
    "    player_1_cards.append(player_1.remove_one())\n",
    "\n",
    "    player_2_cards = []\n",
    "    player_2_cards.append(player_2.remove_one())\n",
    "\n",
    "    at_war = True\n",
    "\n",
    "    while at_war:\n",
    "\n",
    "        if player_1_cards[-1].value > player_2_cards[-1].value:\n",
    "            player_1.add_cards(player_1_cards)\n",
    "            player_1.add_cards(player_2_cards)\n",
    "\n",
    "            at_war = False\n",
    "\n",
    "        elif player_1_cards[-1].value < player_2_cards[-1].value:\n",
    "            player_2.add_cards(player_1_cards)\n",
    "            player_2.add_cards(player_2_cards)  \n",
    "\n",
    "            at_war = False\n",
    "\n",
    "        else:\n",
    "            print('WAR')\n",
    "\n",
    "            if len(player_1.all_cards) < 5:\n",
    "                print('Player 1 not able to delare war. Player 2 wins!')\n",
    "                game_on = False\n",
    "                break\n",
    "\n",
    "            elif len(player_2.all_cards) < 5:\n",
    "                print('Player 2 not able to delare war. Player 1 wins!')\n",
    "                game_on = False\n",
    "                break\n",
    "\n",
    "            else:\n",
    "                for i in range(5):\n",
    "                    player_1_cards.append(player_1.remove_one())\n",
    "                    player_2_cards.append(player_2.remove_one())\n",
    "\n",
    "\n",
    "\n"
   ]
  },
  {
   "cell_type": "code",
   "execution_count": 1,
   "metadata": {},
   "outputs": [],
   "source": [
    "x=lambda a:a+10"
   ]
  },
  {
   "cell_type": "code",
   "execution_count": 3,
   "metadata": {},
   "outputs": [
    {
     "data": {
      "text/plain": [
       "15"
      ]
     },
     "execution_count": 3,
     "metadata": {},
     "output_type": "execute_result"
    }
   ],
   "source": [
    "x(5)"
   ]
  },
  {
   "cell_type": "code",
   "execution_count": 4,
   "metadata": {},
   "outputs": [],
   "source": [
    "xy=(2,3,4,5)"
   ]
  },
  {
   "cell_type": "code",
   "execution_count": 5,
   "metadata": {},
   "outputs": [
    {
     "data": {
      "text/plain": [
       "tuple"
      ]
     },
     "execution_count": 5,
     "metadata": {},
     "output_type": "execute_result"
    }
   ],
   "source": [
    "type(xy)"
   ]
  },
  {
   "cell_type": "code",
   "execution_count": 9,
   "metadata": {},
   "outputs": [],
   "source": [
    "xz=(2,6,6,8,4)"
   ]
  },
  {
   "cell_type": "code",
   "execution_count": 10,
   "metadata": {},
   "outputs": [
    {
     "data": {
      "text/plain": [
       "tuple"
      ]
     },
     "execution_count": 10,
     "metadata": {},
     "output_type": "execute_result"
    }
   ],
   "source": [
    "type(xz)"
   ]
  },
  {
   "cell_type": "code",
   "execution_count": 1,
   "metadata": {},
   "outputs": [],
   "source": [
    "import shutil"
   ]
  },
  {
   "cell_type": "code",
   "execution_count": null,
   "metadata": {},
   "outputs": [],
   "source": [
    "shutil."
   ]
  }
 ],
 "metadata": {
  "kernelspec": {
   "display_name": "Python 3 (ipykernel)",
   "language": "python",
   "name": "python3"
  },
  "language_info": {
   "codemirror_mode": {
    "name": "ipython",
    "version": 3
   },
   "file_extension": ".py",
   "mimetype": "text/x-python",
   "name": "python",
   "nbconvert_exporter": "python",
   "pygments_lexer": "ipython3",
   "version": "3.11.7"
  }
 },
 "nbformat": 4,
 "nbformat_minor": 2
}
